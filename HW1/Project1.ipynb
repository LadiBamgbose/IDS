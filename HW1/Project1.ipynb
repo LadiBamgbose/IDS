{
  "metadata": {
    "language_info": {
      "codemirror_mode": {
        "name": "python",
        "version": 3
      },
      "file_extension": ".py",
      "mimetype": "text/x-python",
      "name": "python",
      "nbconvert_exporter": "python",
      "pygments_lexer": "ipython3",
      "version": "3.8"
    },
    "kernelspec": {
      "name": "python",
      "display_name": "Python (Pyodide)",
      "language": "python"
    }
  },
  "nbformat_minor": 4,
  "nbformat": 4,
  "cells": [
    {
      "cell_type": "markdown",
      "source": "# Project 1\n\n",
      "metadata": {}
    },
    {
      "cell_type": "markdown",
      "source": "## Problem 1:\n",
      "metadata": {}
    },
    {
      "cell_type": "markdown",
      "source": "[](problem1graph.png)",
      "metadata": {}
    },
    {
      "cell_type": "markdown",
      "source": "<img src=\"project1graph.png\"/>",
      "metadata": {}
    },
    {
      "cell_type": "markdown",
      "source": "![](problem2chart)",
      "metadata": {}
    },
    {
      "cell_type": "markdown",
      "source": "Based on the graph above we see that \"sunflower\" has the heaviest average weight. This means that the farmers will have more meat to sell. So \"sunflower\" would be most beneficial for a thriving poultry business. ",
      "metadata": {}
    },
    {
      "cell_type": "markdown",
      "source": "## Problem 2:",
      "metadata": {}
    },
    {
      "cell_type": "markdown",
      "source": "![](problem2graph)",
      "metadata": {}
    },
    {
      "cell_type": "markdown",
      "source": "![](problem2chart)",
      "metadata": {}
    },
    {
      "cell_type": "markdown",
      "source": "Based on the graph and chart above, I would pick GEICO since they have the highest rating on average. ",
      "metadata": {}
    },
    {
      "cell_type": "code",
      "source": "",
      "metadata": {},
      "execution_count": null,
      "outputs": []
    }
  ]
}
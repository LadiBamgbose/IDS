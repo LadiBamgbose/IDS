{
  "nbformat": 4,
  "nbformat_minor": 0,
  "metadata": {
    "colab": {
      "provenance": []
    },
    "kernelspec": {
      "name": "ir",
      "display_name": "R"
    },
    "language_info": {
      "name": "R"
    }
  },
  "cells": [
    {
      "cell_type": "markdown",
      "source": [
        "#Problem 1 R:"
      ],
      "metadata": {
        "id": "QCVcUO1JOU-H"
      }
    },
    {
      "cell_type": "code",
      "source": [
        "library(readr)\n"
      ],
      "metadata": {
        "id": "YtMIDqJPQgoy"
      },
      "execution_count": 2,
      "outputs": []
    },
    {
      "cell_type": "code",
      "source": [
        "data = read.csv(\"/content/adult_training.csv\")"
      ],
      "metadata": {
        "id": "r1cx_gU9RgBc"
      },
      "execution_count": 3,
      "outputs": []
    },
    {
      "cell_type": "markdown",
      "source": [
        "**Cleaning Data**"
      ],
      "metadata": {
        "id": "GKSeXUFaNlt2"
      }
    },
    {
      "cell_type": "code",
      "source": [
        "#checking for missing values\n",
        "missing_values <- colSums(is.na(data))\n",
        "print(missing_values)"
      ],
      "metadata": {
        "colab": {
          "base_uri": "https://localhost:8080/"
        },
        "id": "OAYaEowwNpk6",
        "outputId": "679cdd0f-88eb-4858-dcef-130cbf60a970"
      },
      "execution_count": 3,
      "outputs": [
        {
          "output_type": "stream",
          "name": "stdout",
          "text": [
            "           age      workclass      education marital.status     occupation \n",
            "             0              0              0              0              0 \n",
            "           sex   capital.gain   capital.loss         income \n",
            "             0              0              0              0 \n"
          ]
        }
      ]
    },
    {
      "cell_type": "markdown",
      "source": [
        ">no missing values"
      ],
      "metadata": {
        "id": "KynRyLb3OL7A"
      }
    },
    {
      "cell_type": "markdown",
      "source": [
        " **Contingency table for workclass and sex**"
      ],
      "metadata": {
        "id": "_u9VLWflYhtz"
      }
    },
    {
      "cell_type": "code",
      "source": [
        "#creating data frame\n",
        "adultDF = data.frame(\n",
        "                workclass = data$workclass,\n",
        "                sex = data$sex\n",
        ")\n",
        "#viewing the data frame\n",
        "adultDF\n"
      ],
      "metadata": {
        "colab": {
          "base_uri": "https://localhost:8080/",
          "height": 1000
        },
        "id": "VAhRLPgPYqaZ",
        "outputId": "3cdd4871-5b58-4fb3-f421-50faff367317"
      },
      "execution_count": null,
      "outputs": [
        {
          "output_type": "display_data",
          "data": {
            "text/html": [
              "<table class=\"dataframe\">\n",
              "<caption>A data.frame: 14797 × 2</caption>\n",
              "<thead>\n",
              "\t<tr><th scope=col>workclass</th><th scope=col>sex</th></tr>\n",
              "\t<tr><th scope=col>&lt;chr&gt;</th><th scope=col>&lt;chr&gt;</th></tr>\n",
              "</thead>\n",
              "<tbody>\n",
              "\t<tr><td>Self-emp-not-inc</td><td>Male  </td></tr>\n",
              "\t<tr><td>Private         </td><td>Male  </td></tr>\n",
              "\t<tr><td>Private         </td><td>Female</td></tr>\n",
              "\t<tr><td>Self-emp-not-inc</td><td>Male  </td></tr>\n",
              "\t<tr><td>Private         </td><td>Female</td></tr>\n",
              "\t<tr><td>Private         </td><td>Male  </td></tr>\n",
              "\t<tr><td>Private         </td><td>Male  </td></tr>\n",
              "\t<tr><td>Private         </td><td>Male  </td></tr>\n",
              "\t<tr><td>?               </td><td>Male  </td></tr>\n",
              "\t<tr><td>Private         </td><td>Male  </td></tr>\n",
              "\t<tr><td>Federal-gov     </td><td>Male  </td></tr>\n",
              "\t<tr><td>Private         </td><td>Male  </td></tr>\n",
              "\t<tr><td>Private         </td><td>Female</td></tr>\n",
              "\t<tr><td>Private         </td><td>Male  </td></tr>\n",
              "\t<tr><td>Private         </td><td>Male  </td></tr>\n",
              "\t<tr><td>Private         </td><td>Male  </td></tr>\n",
              "\t<tr><td>Private         </td><td>Female</td></tr>\n",
              "\t<tr><td>Private         </td><td>Female</td></tr>\n",
              "\t<tr><td>Private         </td><td>Female</td></tr>\n",
              "\t<tr><td>Federal-gov     </td><td>Male  </td></tr>\n",
              "\t<tr><td>Self-emp-inc    </td><td>Male  </td></tr>\n",
              "\t<tr><td>Private         </td><td>Male  </td></tr>\n",
              "\t<tr><td>Private         </td><td>Male  </td></tr>\n",
              "\t<tr><td>Private         </td><td>Male  </td></tr>\n",
              "\t<tr><td>Private         </td><td>Male  </td></tr>\n",
              "\t<tr><td>Private         </td><td>Female</td></tr>\n",
              "\t<tr><td>Private         </td><td>Female</td></tr>\n",
              "\t<tr><td>?               </td><td>Male  </td></tr>\n",
              "\t<tr><td>Private         </td><td>Female</td></tr>\n",
              "\t<tr><td>Private         </td><td>Male  </td></tr>\n",
              "\t<tr><td>⋮</td><td>⋮</td></tr>\n",
              "\t<tr><td>Private         </td><td>Male  </td></tr>\n",
              "\t<tr><td>Private         </td><td>Female</td></tr>\n",
              "\t<tr><td>Private         </td><td>Male  </td></tr>\n",
              "\t<tr><td>Private         </td><td>Male  </td></tr>\n",
              "\t<tr><td>Local-gov       </td><td>Male  </td></tr>\n",
              "\t<tr><td>Private         </td><td>Female</td></tr>\n",
              "\t<tr><td>Private         </td><td>Female</td></tr>\n",
              "\t<tr><td>Private         </td><td>Male  </td></tr>\n",
              "\t<tr><td>Private         </td><td>Female</td></tr>\n",
              "\t<tr><td>Private         </td><td>Male  </td></tr>\n",
              "\t<tr><td>Federal-gov     </td><td>Male  </td></tr>\n",
              "\t<tr><td>Private         </td><td>Male  </td></tr>\n",
              "\t<tr><td>Private         </td><td>Female</td></tr>\n",
              "\t<tr><td>Private         </td><td>Male  </td></tr>\n",
              "\t<tr><td>Private         </td><td>Male  </td></tr>\n",
              "\t<tr><td>Private         </td><td>Male  </td></tr>\n",
              "\t<tr><td>Private         </td><td>Male  </td></tr>\n",
              "\t<tr><td>Private         </td><td>Male  </td></tr>\n",
              "\t<tr><td>Private         </td><td>Male  </td></tr>\n",
              "\t<tr><td>Private         </td><td>Female</td></tr>\n",
              "\t<tr><td>Local-gov       </td><td>Female</td></tr>\n",
              "\t<tr><td>Local-gov       </td><td>Female</td></tr>\n",
              "\t<tr><td>Private         </td><td>Female</td></tr>\n",
              "\t<tr><td>Self-emp-not-inc</td><td>Male  </td></tr>\n",
              "\t<tr><td>State-gov       </td><td>Female</td></tr>\n",
              "\t<tr><td>Self-emp-not-inc</td><td>Male  </td></tr>\n",
              "\t<tr><td>Private         </td><td>Male  </td></tr>\n",
              "\t<tr><td>Private         </td><td>Male  </td></tr>\n",
              "\t<tr><td>Private         </td><td>Female</td></tr>\n",
              "\t<tr><td>Private         </td><td>Male  </td></tr>\n",
              "</tbody>\n",
              "</table>\n"
            ],
            "text/markdown": "\nA data.frame: 14797 × 2\n\n| workclass &lt;chr&gt; | sex &lt;chr&gt; |\n|---|---|\n| Self-emp-not-inc | Male   |\n| Private          | Male   |\n| Private          | Female |\n| Self-emp-not-inc | Male   |\n| Private          | Female |\n| Private          | Male   |\n| Private          | Male   |\n| Private          | Male   |\n| ?                | Male   |\n| Private          | Male   |\n| Federal-gov      | Male   |\n| Private          | Male   |\n| Private          | Female |\n| Private          | Male   |\n| Private          | Male   |\n| Private          | Male   |\n| Private          | Female |\n| Private          | Female |\n| Private          | Female |\n| Federal-gov      | Male   |\n| Self-emp-inc     | Male   |\n| Private          | Male   |\n| Private          | Male   |\n| Private          | Male   |\n| Private          | Male   |\n| Private          | Female |\n| Private          | Female |\n| ?                | Male   |\n| Private          | Female |\n| Private          | Male   |\n| ⋮ | ⋮ |\n| Private          | Male   |\n| Private          | Female |\n| Private          | Male   |\n| Private          | Male   |\n| Local-gov        | Male   |\n| Private          | Female |\n| Private          | Female |\n| Private          | Male   |\n| Private          | Female |\n| Private          | Male   |\n| Federal-gov      | Male   |\n| Private          | Male   |\n| Private          | Female |\n| Private          | Male   |\n| Private          | Male   |\n| Private          | Male   |\n| Private          | Male   |\n| Private          | Male   |\n| Private          | Male   |\n| Private          | Female |\n| Local-gov        | Female |\n| Local-gov        | Female |\n| Private          | Female |\n| Self-emp-not-inc | Male   |\n| State-gov        | Female |\n| Self-emp-not-inc | Male   |\n| Private          | Male   |\n| Private          | Male   |\n| Private          | Female |\n| Private          | Male   |\n\n",
            "text/latex": "A data.frame: 14797 × 2\n\\begin{tabular}{ll}\n workclass & sex\\\\\n <chr> & <chr>\\\\\n\\hline\n\t Self-emp-not-inc & Male  \\\\\n\t Private          & Male  \\\\\n\t Private          & Female\\\\\n\t Self-emp-not-inc & Male  \\\\\n\t Private          & Female\\\\\n\t Private          & Male  \\\\\n\t Private          & Male  \\\\\n\t Private          & Male  \\\\\n\t ?                & Male  \\\\\n\t Private          & Male  \\\\\n\t Federal-gov      & Male  \\\\\n\t Private          & Male  \\\\\n\t Private          & Female\\\\\n\t Private          & Male  \\\\\n\t Private          & Male  \\\\\n\t Private          & Male  \\\\\n\t Private          & Female\\\\\n\t Private          & Female\\\\\n\t Private          & Female\\\\\n\t Federal-gov      & Male  \\\\\n\t Self-emp-inc     & Male  \\\\\n\t Private          & Male  \\\\\n\t Private          & Male  \\\\\n\t Private          & Male  \\\\\n\t Private          & Male  \\\\\n\t Private          & Female\\\\\n\t Private          & Female\\\\\n\t ?                & Male  \\\\\n\t Private          & Female\\\\\n\t Private          & Male  \\\\\n\t ⋮ & ⋮\\\\\n\t Private          & Male  \\\\\n\t Private          & Female\\\\\n\t Private          & Male  \\\\\n\t Private          & Male  \\\\\n\t Local-gov        & Male  \\\\\n\t Private          & Female\\\\\n\t Private          & Female\\\\\n\t Private          & Male  \\\\\n\t Private          & Female\\\\\n\t Private          & Male  \\\\\n\t Federal-gov      & Male  \\\\\n\t Private          & Male  \\\\\n\t Private          & Female\\\\\n\t Private          & Male  \\\\\n\t Private          & Male  \\\\\n\t Private          & Male  \\\\\n\t Private          & Male  \\\\\n\t Private          & Male  \\\\\n\t Private          & Male  \\\\\n\t Private          & Female\\\\\n\t Local-gov        & Female\\\\\n\t Local-gov        & Female\\\\\n\t Private          & Female\\\\\n\t Self-emp-not-inc & Male  \\\\\n\t State-gov        & Female\\\\\n\t Self-emp-not-inc & Male  \\\\\n\t Private          & Male  \\\\\n\t Private          & Male  \\\\\n\t Private          & Female\\\\\n\t Private          & Male  \\\\\n\\end{tabular}\n",
            "text/plain": [
              "      workclass        sex   \n",
              "1     Self-emp-not-inc Male  \n",
              "2     Private          Male  \n",
              "3     Private          Female\n",
              "4     Self-emp-not-inc Male  \n",
              "5     Private          Female\n",
              "6     Private          Male  \n",
              "7     Private          Male  \n",
              "8     Private          Male  \n",
              "9     ?                Male  \n",
              "10    Private          Male  \n",
              "11    Federal-gov      Male  \n",
              "12    Private          Male  \n",
              "13    Private          Female\n",
              "14    Private          Male  \n",
              "15    Private          Male  \n",
              "16    Private          Male  \n",
              "17    Private          Female\n",
              "18    Private          Female\n",
              "19    Private          Female\n",
              "20    Federal-gov      Male  \n",
              "21    Self-emp-inc     Male  \n",
              "22    Private          Male  \n",
              "23    Private          Male  \n",
              "24    Private          Male  \n",
              "25    Private          Male  \n",
              "26    Private          Female\n",
              "27    Private          Female\n",
              "28    ?                Male  \n",
              "29    Private          Female\n",
              "30    Private          Male  \n",
              "⋮     ⋮                ⋮     \n",
              "14768 Private          Male  \n",
              "14769 Private          Female\n",
              "14770 Private          Male  \n",
              "14771 Private          Male  \n",
              "14772 Local-gov        Male  \n",
              "14773 Private          Female\n",
              "14774 Private          Female\n",
              "14775 Private          Male  \n",
              "14776 Private          Female\n",
              "14777 Private          Male  \n",
              "14778 Federal-gov      Male  \n",
              "14779 Private          Male  \n",
              "14780 Private          Female\n",
              "14781 Private          Male  \n",
              "14782 Private          Male  \n",
              "14783 Private          Male  \n",
              "14784 Private          Male  \n",
              "14785 Private          Male  \n",
              "14786 Private          Male  \n",
              "14787 Private          Female\n",
              "14788 Local-gov        Female\n",
              "14789 Local-gov        Female\n",
              "14790 Private          Female\n",
              "14791 Self-emp-not-inc Male  \n",
              "14792 State-gov        Female\n",
              "14793 Self-emp-not-inc Male  \n",
              "14794 Private          Male  \n",
              "14795 Private          Male  \n",
              "14796 Private          Female\n",
              "14797 Private          Male  "
            ]
          },
          "metadata": {}
        }
      ]
    },
    {
      "cell_type": "code",
      "source": [
        "#Contingency table\n",
        "workSex = table(adultDF$workclass, adultDF$sex)\n",
        "ftable(workSex)"
      ],
      "metadata": {
        "colab": {
          "base_uri": "https://localhost:8080/",
          "height": 208
        },
        "id": "3J9um8Z9ZM0n",
        "outputId": "49473d35-cc41-4119-aa13-6ef187a5e9cc"
      },
      "execution_count": null,
      "outputs": [
        {
          "output_type": "display_data",
          "data": {
            "text/plain": [
              "                  Female Male\n",
              "                             \n",
              "?                    377  452\n",
              "Federal-gov          149  305\n",
              "Local-gov            377  592\n",
              "Never-worked           1    4\n",
              "Private             3574 6707\n",
              "Self-emp-inc          54  444\n",
              "Self-emp-not-inc     178  992\n",
              "State-gov            201  385\n",
              "Without-pay            1    4"
            ]
          },
          "metadata": {}
        }
      ]
    },
    {
      "cell_type": "code",
      "source": [
        "#plotting\n",
        "barplot(workSex, beside = TRUE, legend.text = TRUE, main = \"Contingency Table: Workclass vs. Sex\")\n"
      ],
      "metadata": {
        "colab": {
          "base_uri": "https://localhost:8080/",
          "height": 437
        },
        "id": "-TVn3D6PbaOF",
        "outputId": "c538b92f-15ca-4d35-d102-cda2afdcb85e"
      },
      "execution_count": null,
      "outputs": [
        {
          "output_type": "display_data",
          "data": {
            "text/plain": [
              "Plot with title “Contingency Table: Workclass vs. Sex”"
            ],
            "image/png": "[encoded data removed]"
          },
          "metadata": {
            "image/png": {
              "width": 420,
              "height": 420
            }
          }
        }
      ]
    },
    {
      "cell_type": "markdown",
      "source": [
        "**Contingency table for sex and marital status**"
      ],
      "metadata": {
        "id": "M9WvL-E7cvy_"
      }
    },
    {
      "cell_type": "code",
      "source": [
        "#creating data frame\n",
        "sexDF = data.frame(\n",
        "              sex = data$sex,\n",
        "              marital = data$marital.status\n",
        ")\n",
        "#viewing data frame\n",
        "sexDF"
      ],
      "metadata": {
        "colab": {
          "base_uri": "https://localhost:8080/",
          "height": 1000
        },
        "id": "xTzueNK_c1yH",
        "outputId": "cf30c48c-892d-498f-8d74-12844f8c804e"
      },
      "execution_count": null,
      "outputs": [
        {
          "output_type": "display_data",
          "data": {
            "text/html": [
              "<table class=\"dataframe\">\n",
              "<caption>A data.frame: 14797 × 2</caption>\n",
              "<thead>\n",
              "\t<tr><th scope=col>sex</th><th scope=col>marital</th></tr>\n",
              "\t<tr><th scope=col>&lt;chr&gt;</th><th scope=col>&lt;chr&gt;</th></tr>\n",
              "</thead>\n",
              "<tbody>\n",
              "\t<tr><td>Male  </td><td>Married-civ-spouse   </td></tr>\n",
              "\t<tr><td>Male  </td><td>Divorced             </td></tr>\n",
              "\t<tr><td>Female</td><td>Married-spouse-absent</td></tr>\n",
              "\t<tr><td>Male  </td><td>Married-civ-spouse   </td></tr>\n",
              "\t<tr><td>Female</td><td>Never-married        </td></tr>\n",
              "\t<tr><td>Male  </td><td>Married-civ-spouse   </td></tr>\n",
              "\t<tr><td>Male  </td><td>Married-civ-spouse   </td></tr>\n",
              "\t<tr><td>Male  </td><td>Married-civ-spouse   </td></tr>\n",
              "\t<tr><td>Male  </td><td>Married-civ-spouse   </td></tr>\n",
              "\t<tr><td>Male  </td><td>Divorced             </td></tr>\n",
              "\t<tr><td>Male  </td><td>Married-civ-spouse   </td></tr>\n",
              "\t<tr><td>Male  </td><td>Never-married        </td></tr>\n",
              "\t<tr><td>Female</td><td>Married-AF-spouse    </td></tr>\n",
              "\t<tr><td>Male  </td><td>Married-civ-spouse   </td></tr>\n",
              "\t<tr><td>Male  </td><td>Married-civ-spouse   </td></tr>\n",
              "\t<tr><td>Male  </td><td>Married-civ-spouse   </td></tr>\n",
              "\t<tr><td>Female</td><td>Divorced             </td></tr>\n",
              "\t<tr><td>Female</td><td>Married-civ-spouse   </td></tr>\n",
              "\t<tr><td>Female</td><td>Never-married        </td></tr>\n",
              "\t<tr><td>Male  </td><td>Divorced             </td></tr>\n",
              "\t<tr><td>Male  </td><td>Divorced             </td></tr>\n",
              "\t<tr><td>Male  </td><td>Married-civ-spouse   </td></tr>\n",
              "\t<tr><td>Male  </td><td>Married-civ-spouse   </td></tr>\n",
              "\t<tr><td>Male  </td><td>Married-civ-spouse   </td></tr>\n",
              "\t<tr><td>Male  </td><td>Divorced             </td></tr>\n",
              "\t<tr><td>Female</td><td>Divorced             </td></tr>\n",
              "\t<tr><td>Female</td><td>Married-civ-spouse   </td></tr>\n",
              "\t<tr><td>Male  </td><td>Never-married        </td></tr>\n",
              "\t<tr><td>Female</td><td>Separated            </td></tr>\n",
              "\t<tr><td>Male  </td><td>Never-married        </td></tr>\n",
              "\t<tr><td>⋮</td><td>⋮</td></tr>\n",
              "\t<tr><td>Male  </td><td>Never-married     </td></tr>\n",
              "\t<tr><td>Female</td><td>Never-married     </td></tr>\n",
              "\t<tr><td>Male  </td><td>Married-civ-spouse</td></tr>\n",
              "\t<tr><td>Male  </td><td>Married-civ-spouse</td></tr>\n",
              "\t<tr><td>Male  </td><td>Married-civ-spouse</td></tr>\n",
              "\t<tr><td>Female</td><td>Divorced          </td></tr>\n",
              "\t<tr><td>Female</td><td>Separated         </td></tr>\n",
              "\t<tr><td>Male  </td><td>Never-married     </td></tr>\n",
              "\t<tr><td>Female</td><td>Married-civ-spouse</td></tr>\n",
              "\t<tr><td>Male  </td><td>Married-civ-spouse</td></tr>\n",
              "\t<tr><td>Male  </td><td>Married-civ-spouse</td></tr>\n",
              "\t<tr><td>Male  </td><td>Married-civ-spouse</td></tr>\n",
              "\t<tr><td>Female</td><td>Never-married     </td></tr>\n",
              "\t<tr><td>Male  </td><td>Married-civ-spouse</td></tr>\n",
              "\t<tr><td>Male  </td><td>Divorced          </td></tr>\n",
              "\t<tr><td>Male  </td><td>Married-civ-spouse</td></tr>\n",
              "\t<tr><td>Male  </td><td>Never-married     </td></tr>\n",
              "\t<tr><td>Male  </td><td>Married-civ-spouse</td></tr>\n",
              "\t<tr><td>Male  </td><td>Never-married     </td></tr>\n",
              "\t<tr><td>Female</td><td>Never-married     </td></tr>\n",
              "\t<tr><td>Female</td><td>Divorced          </td></tr>\n",
              "\t<tr><td>Female</td><td>Married-civ-spouse</td></tr>\n",
              "\t<tr><td>Female</td><td>Divorced          </td></tr>\n",
              "\t<tr><td>Male  </td><td>Never-married     </td></tr>\n",
              "\t<tr><td>Female</td><td>Divorced          </td></tr>\n",
              "\t<tr><td>Male  </td><td>Married-civ-spouse</td></tr>\n",
              "\t<tr><td>Male  </td><td>Married-civ-spouse</td></tr>\n",
              "\t<tr><td>Male  </td><td>Never-married     </td></tr>\n",
              "\t<tr><td>Female</td><td>Widowed           </td></tr>\n",
              "\t<tr><td>Male  </td><td>Never-married     </td></tr>\n",
              "</tbody>\n",
              "</table>\n"
            ],
            "text/markdown": "\nA data.frame: 14797 × 2\n\n| sex &lt;chr&gt; | marital &lt;chr&gt; |\n|---|---|\n| Male   | Married-civ-spouse    |\n| Male   | Divorced              |\n| Female | Married-spouse-absent |\n| Male   | Married-civ-spouse    |\n| Female | Never-married         |\n| Male   | Married-civ-spouse    |\n| Male   | Married-civ-spouse    |\n| Male   | Married-civ-spouse    |\n| Male   | Married-civ-spouse    |\n| Male   | Divorced              |\n| Male   | Married-civ-spouse    |\n| Male   | Never-married         |\n| Female | Married-AF-spouse     |\n| Male   | Married-civ-spouse    |\n| Male   | Married-civ-spouse    |\n| Male   | Married-civ-spouse    |\n| Female | Divorced              |\n| Female | Married-civ-spouse    |\n| Female | Never-married         |\n| Male   | Divorced              |\n| Male   | Divorced              |\n| Male   | Married-civ-spouse    |\n| Male   | Married-civ-spouse    |\n| Male   | Married-civ-spouse    |\n| Male   | Divorced              |\n| Female | Divorced              |\n| Female | Married-civ-spouse    |\n| Male   | Never-married         |\n| Female | Separated             |\n| Male   | Never-married         |\n| ⋮ | ⋮ |\n| Male   | Never-married      |\n| Female | Never-married      |\n| Male   | Married-civ-spouse |\n| Male   | Married-civ-spouse |\n| Male   | Married-civ-spouse |\n| Female | Divorced           |\n| Female | Separated          |\n| Male   | Never-married      |\n| Female | Married-civ-spouse |\n| Male   | Married-civ-spouse |\n| Male   | Married-civ-spouse |\n| Male   | Married-civ-spouse |\n| Female | Never-married      |\n| Male   | Married-civ-spouse |\n| Male   | Divorced           |\n| Male   | Married-civ-spouse |\n| Male   | Never-married      |\n| Male   | Married-civ-spouse |\n| Male   | Never-married      |\n| Female | Never-married      |\n| Female | Divorced           |\n| Female | Married-civ-spouse |\n| Female | Divorced           |\n| Male   | Never-married      |\n| Female | Divorced           |\n| Male   | Married-civ-spouse |\n| Male   | Married-civ-spouse |\n| Male   | Never-married      |\n| Female | Widowed            |\n| Male   | Never-married      |\n\n",
            "text/latex": "A data.frame: 14797 × 2\n\\begin{tabular}{ll}\n sex & marital\\\\\n <chr> & <chr>\\\\\n\\hline\n\t Male   & Married-civ-spouse   \\\\\n\t Male   & Divorced             \\\\\n\t Female & Married-spouse-absent\\\\\n\t Male   & Married-civ-spouse   \\\\\n\t Female & Never-married        \\\\\n\t Male   & Married-civ-spouse   \\\\\n\t Male   & Married-civ-spouse   \\\\\n\t Male   & Married-civ-spouse   \\\\\n\t Male   & Married-civ-spouse   \\\\\n\t Male   & Divorced             \\\\\n\t Male   & Married-civ-spouse   \\\\\n\t Male   & Never-married        \\\\\n\t Female & Married-AF-spouse    \\\\\n\t Male   & Married-civ-spouse   \\\\\n\t Male   & Married-civ-spouse   \\\\\n\t Male   & Married-civ-spouse   \\\\\n\t Female & Divorced             \\\\\n\t Female & Married-civ-spouse   \\\\\n\t Female & Never-married        \\\\\n\t Male   & Divorced             \\\\\n\t Male   & Divorced             \\\\\n\t Male   & Married-civ-spouse   \\\\\n\t Male   & Married-civ-spouse   \\\\\n\t Male   & Married-civ-spouse   \\\\\n\t Male   & Divorced             \\\\\n\t Female & Divorced             \\\\\n\t Female & Married-civ-spouse   \\\\\n\t Male   & Never-married        \\\\\n\t Female & Separated            \\\\\n\t Male   & Never-married        \\\\\n\t ⋮ & ⋮\\\\\n\t Male   & Never-married     \\\\\n\t Female & Never-married     \\\\\n\t Male   & Married-civ-spouse\\\\\n\t Male   & Married-civ-spouse\\\\\n\t Male   & Married-civ-spouse\\\\\n\t Female & Divorced          \\\\\n\t Female & Separated         \\\\\n\t Male   & Never-married     \\\\\n\t Female & Married-civ-spouse\\\\\n\t Male   & Married-civ-spouse\\\\\n\t Male   & Married-civ-spouse\\\\\n\t Male   & Married-civ-spouse\\\\\n\t Female & Never-married     \\\\\n\t Male   & Married-civ-spouse\\\\\n\t Male   & Divorced          \\\\\n\t Male   & Married-civ-spouse\\\\\n\t Male   & Never-married     \\\\\n\t Male   & Married-civ-spouse\\\\\n\t Male   & Never-married     \\\\\n\t Female & Never-married     \\\\\n\t Female & Divorced          \\\\\n\t Female & Married-civ-spouse\\\\\n\t Female & Divorced          \\\\\n\t Male   & Never-married     \\\\\n\t Female & Divorced          \\\\\n\t Male   & Married-civ-spouse\\\\\n\t Male   & Married-civ-spouse\\\\\n\t Male   & Never-married     \\\\\n\t Female & Widowed           \\\\\n\t Male   & Never-married     \\\\\n\\end{tabular}\n",
            "text/plain": [
              "      sex    marital              \n",
              "1     Male   Married-civ-spouse   \n",
              "2     Male   Divorced             \n",
              "3     Female Married-spouse-absent\n",
              "4     Male   Married-civ-spouse   \n",
              "5     Female Never-married        \n",
              "6     Male   Married-civ-spouse   \n",
              "7     Male   Married-civ-spouse   \n",
              "8     Male   Married-civ-spouse   \n",
              "9     Male   Married-civ-spouse   \n",
              "10    Male   Divorced             \n",
              "11    Male   Married-civ-spouse   \n",
              "12    Male   Never-married        \n",
              "13    Female Married-AF-spouse    \n",
              "14    Male   Married-civ-spouse   \n",
              "15    Male   Married-civ-spouse   \n",
              "16    Male   Married-civ-spouse   \n",
              "17    Female Divorced             \n",
              "18    Female Married-civ-spouse   \n",
              "19    Female Never-married        \n",
              "20    Male   Divorced             \n",
              "21    Male   Divorced             \n",
              "22    Male   Married-civ-spouse   \n",
              "23    Male   Married-civ-spouse   \n",
              "24    Male   Married-civ-spouse   \n",
              "25    Male   Divorced             \n",
              "26    Female Divorced             \n",
              "27    Female Married-civ-spouse   \n",
              "28    Male   Never-married        \n",
              "29    Female Separated            \n",
              "30    Male   Never-married        \n",
              "⋮     ⋮      ⋮                    \n",
              "14768 Male   Never-married        \n",
              "14769 Female Never-married        \n",
              "14770 Male   Married-civ-spouse   \n",
              "14771 Male   Married-civ-spouse   \n",
              "14772 Male   Married-civ-spouse   \n",
              "14773 Female Divorced             \n",
              "14774 Female Separated            \n",
              "14775 Male   Never-married        \n",
              "14776 Female Married-civ-spouse   \n",
              "14777 Male   Married-civ-spouse   \n",
              "14778 Male   Married-civ-spouse   \n",
              "14779 Male   Married-civ-spouse   \n",
              "14780 Female Never-married        \n",
              "14781 Male   Married-civ-spouse   \n",
              "14782 Male   Divorced             \n",
              "14783 Male   Married-civ-spouse   \n",
              "14784 Male   Never-married        \n",
              "14785 Male   Married-civ-spouse   \n",
              "14786 Male   Never-married        \n",
              "14787 Female Never-married        \n",
              "14788 Female Divorced             \n",
              "14789 Female Married-civ-spouse   \n",
              "14790 Female Divorced             \n",
              "14791 Male   Never-married        \n",
              "14792 Female Divorced             \n",
              "14793 Male   Married-civ-spouse   \n",
              "14794 Male   Married-civ-spouse   \n",
              "14795 Male   Never-married        \n",
              "14796 Female Widowed              \n",
              "14797 Male   Never-married        "
            ]
          },
          "metadata": {}
        }
      ]
    },
    {
      "cell_type": "code",
      "source": [
        "sexMarital = table(sexDF$marital, sexDF$sex)\n",
        "ftable(sexMarital)"
      ],
      "metadata": {
        "colab": {
          "base_uri": "https://localhost:8080/",
          "height": 173
        },
        "id": "09rhjOsNdLNu",
        "outputId": "8d43ea00-2fc5-4dd0-c65d-6780cbdf2434"
      },
      "execution_count": null,
      "outputs": [
        {
          "output_type": "display_data",
          "data": {
            "text/plain": [
              "                       Female Male\n",
              "                                  \n",
              "Divorced                 1219  795\n",
              "Married-AF-spouse           7    4\n",
              "Married-civ-spouse        761 6010\n",
              "Married-spouse-absent      95  104\n",
              "Never-married            2160 2717\n",
              "Separated                 290  182\n",
              "Widowed                   380   73"
            ]
          },
          "metadata": {}
        }
      ]
    },
    {
      "cell_type": "code",
      "source": [
        "#plotting marital vs sex\n",
        "barplot(sexMarital, beside = TRUE, legend.text = TRUE, main = \"Contingency Table: Marital vs. Sex\")"
      ],
      "metadata": {
        "colab": {
          "base_uri": "https://localhost:8080/",
          "height": 437
        },
        "id": "fuJyj0lthmPA",
        "outputId": "316628d3-153c-4741-84fa-22c9fcc832fc"
      },
      "execution_count": null,
      "outputs": [
        {
          "output_type": "display_data",
          "data": {
            "text/plain": [
              "Plot with title “Contingency Table: Marital vs. Sex”"
            ],
            "image/png": "[encoded data removed]"
          },
          "metadata": {
            "image/png": {
              "width": 420,
              "height": 420
            }
          }
        }
      ]
    },
    {
      "cell_type": "markdown",
      "source": [
        "**Adult over 40**"
      ],
      "metadata": {
        "id": "fRStJ6IbeOv8"
      }
    },
    {
      "cell_type": "code",
      "source": [
        "adultOver40 = data[data$age > 40, ]"
      ],
      "metadata": {
        "id": "uVtBREAjeSua"
      },
      "execution_count": null,
      "outputs": []
    },
    {
      "cell_type": "code",
      "source": [
        "a40DF = data.frame (\n",
        "              sex = adultOver40$sex,\n",
        "              marital = adultOver40$marital.status\n",
        "\n",
        ")\n",
        "\n",
        "a40DF"
      ],
      "metadata": {
        "colab": {
          "base_uri": "https://localhost:8080/",
          "height": 1000
        },
        "id": "83q7LM7QgszJ",
        "outputId": "2df7bed3-ef70-4493-bade-1edd57677cc8"
      },
      "execution_count": null,
      "outputs": [
        {
          "output_type": "display_data",
          "data": {
            "text/html": [
              "<table class=\"dataframe\">\n",
              "<caption>A data.frame: 6144 × 2</caption>\n",
              "<thead>\n",
              "\t<tr><th scope=col>sex</th><th scope=col>marital</th></tr>\n",
              "\t<tr><th scope=col>&lt;chr&gt;</th><th scope=col>&lt;chr&gt;</th></tr>\n",
              "</thead>\n",
              "<tbody>\n",
              "\t<tr><td>Male  </td><td>Married-civ-spouse   </td></tr>\n",
              "\t<tr><td>Female</td><td>Married-spouse-absent</td></tr>\n",
              "\t<tr><td>Male  </td><td>Married-civ-spouse   </td></tr>\n",
              "\t<tr><td>Male  </td><td>Married-civ-spouse   </td></tr>\n",
              "\t<tr><td>Male  </td><td>Married-civ-spouse   </td></tr>\n",
              "\t<tr><td>Female</td><td>Divorced             </td></tr>\n",
              "\t<tr><td>Male  </td><td>Divorced             </td></tr>\n",
              "\t<tr><td>Male  </td><td>Divorced             </td></tr>\n",
              "\t<tr><td>Male  </td><td>Married-civ-spouse   </td></tr>\n",
              "\t<tr><td>Female</td><td>Married-civ-spouse   </td></tr>\n",
              "\t<tr><td>Male  </td><td>Married-civ-spouse   </td></tr>\n",
              "\t<tr><td>Male  </td><td>Married-civ-spouse   </td></tr>\n",
              "\t<tr><td>Male  </td><td>Married-civ-spouse   </td></tr>\n",
              "\t<tr><td>Female</td><td>Divorced             </td></tr>\n",
              "\t<tr><td>Male  </td><td>Married-civ-spouse   </td></tr>\n",
              "\t<tr><td>Female</td><td>Never-married        </td></tr>\n",
              "\t<tr><td>Male  </td><td>Married-civ-spouse   </td></tr>\n",
              "\t<tr><td>Male  </td><td>Married-civ-spouse   </td></tr>\n",
              "\t<tr><td>Female</td><td>Never-married        </td></tr>\n",
              "\t<tr><td>Male  </td><td>Married-civ-spouse   </td></tr>\n",
              "\t<tr><td>Male  </td><td>Married-civ-spouse   </td></tr>\n",
              "\t<tr><td>Male  </td><td>Married-civ-spouse   </td></tr>\n",
              "\t<tr><td>Male  </td><td>Married-civ-spouse   </td></tr>\n",
              "\t<tr><td>Male  </td><td>Married-civ-spouse   </td></tr>\n",
              "\t<tr><td>Male  </td><td>Married-civ-spouse   </td></tr>\n",
              "\t<tr><td>Female</td><td>Never-married        </td></tr>\n",
              "\t<tr><td>Male  </td><td>Divorced             </td></tr>\n",
              "\t<tr><td>Male  </td><td>Separated            </td></tr>\n",
              "\t<tr><td>Female</td><td>Divorced             </td></tr>\n",
              "\t<tr><td>Male  </td><td>Widowed              </td></tr>\n",
              "\t<tr><td>⋮</td><td>⋮</td></tr>\n",
              "\t<tr><td>Male  </td><td>Married-civ-spouse</td></tr>\n",
              "\t<tr><td>Male  </td><td>Married-civ-spouse</td></tr>\n",
              "\t<tr><td>Female</td><td>Widowed           </td></tr>\n",
              "\t<tr><td>Male  </td><td>Married-civ-spouse</td></tr>\n",
              "\t<tr><td>Male  </td><td>Married-civ-spouse</td></tr>\n",
              "\t<tr><td>Male  </td><td>Married-civ-spouse</td></tr>\n",
              "\t<tr><td>Female</td><td>Widowed           </td></tr>\n",
              "\t<tr><td>Male  </td><td>Married-civ-spouse</td></tr>\n",
              "\t<tr><td>Male  </td><td>Married-civ-spouse</td></tr>\n",
              "\t<tr><td>Female</td><td>Widowed           </td></tr>\n",
              "\t<tr><td>Female</td><td>Never-married     </td></tr>\n",
              "\t<tr><td>Female</td><td>Divorced          </td></tr>\n",
              "\t<tr><td>Male  </td><td>Divorced          </td></tr>\n",
              "\t<tr><td>Female</td><td>Married-civ-spouse</td></tr>\n",
              "\t<tr><td>Male  </td><td>Married-civ-spouse</td></tr>\n",
              "\t<tr><td>Female</td><td>Separated         </td></tr>\n",
              "\t<tr><td>Male  </td><td>Divorced          </td></tr>\n",
              "\t<tr><td>Male  </td><td>Never-married     </td></tr>\n",
              "\t<tr><td>Male  </td><td>Married-civ-spouse</td></tr>\n",
              "\t<tr><td>Male  </td><td>Married-civ-spouse</td></tr>\n",
              "\t<tr><td>Female</td><td>Divorced          </td></tr>\n",
              "\t<tr><td>Female</td><td>Married-civ-spouse</td></tr>\n",
              "\t<tr><td>Male  </td><td>Married-civ-spouse</td></tr>\n",
              "\t<tr><td>Male  </td><td>Married-civ-spouse</td></tr>\n",
              "\t<tr><td>Male  </td><td>Married-civ-spouse</td></tr>\n",
              "\t<tr><td>Female</td><td>Divorced          </td></tr>\n",
              "\t<tr><td>Male  </td><td>Never-married     </td></tr>\n",
              "\t<tr><td>Female</td><td>Divorced          </td></tr>\n",
              "\t<tr><td>Male  </td><td>Married-civ-spouse</td></tr>\n",
              "\t<tr><td>Female</td><td>Widowed           </td></tr>\n",
              "</tbody>\n",
              "</table>\n"
            ],
            "text/markdown": "\nA data.frame: 6144 × 2\n\n| sex &lt;chr&gt; | marital &lt;chr&gt; |\n|---|---|\n| Male   | Married-civ-spouse    |\n| Female | Married-spouse-absent |\n| Male   | Married-civ-spouse    |\n| Male   | Married-civ-spouse    |\n| Male   | Married-civ-spouse    |\n| Female | Divorced              |\n| Male   | Divorced              |\n| Male   | Divorced              |\n| Male   | Married-civ-spouse    |\n| Female | Married-civ-spouse    |\n| Male   | Married-civ-spouse    |\n| Male   | Married-civ-spouse    |\n| Male   | Married-civ-spouse    |\n| Female | Divorced              |\n| Male   | Married-civ-spouse    |\n| Female | Never-married         |\n| Male   | Married-civ-spouse    |\n| Male   | Married-civ-spouse    |\n| Female | Never-married         |\n| Male   | Married-civ-spouse    |\n| Male   | Married-civ-spouse    |\n| Male   | Married-civ-spouse    |\n| Male   | Married-civ-spouse    |\n| Male   | Married-civ-spouse    |\n| Male   | Married-civ-spouse    |\n| Female | Never-married         |\n| Male   | Divorced              |\n| Male   | Separated             |\n| Female | Divorced              |\n| Male   | Widowed               |\n| ⋮ | ⋮ |\n| Male   | Married-civ-spouse |\n| Male   | Married-civ-spouse |\n| Female | Widowed            |\n| Male   | Married-civ-spouse |\n| Male   | Married-civ-spouse |\n| Male   | Married-civ-spouse |\n| Female | Widowed            |\n| Male   | Married-civ-spouse |\n| Male   | Married-civ-spouse |\n| Female | Widowed            |\n| Female | Never-married      |\n| Female | Divorced           |\n| Male   | Divorced           |\n| Female | Married-civ-spouse |\n| Male   | Married-civ-spouse |\n| Female | Separated          |\n| Male   | Divorced           |\n| Male   | Never-married      |\n| Male   | Married-civ-spouse |\n| Male   | Married-civ-spouse |\n| Female | Divorced           |\n| Female | Married-civ-spouse |\n| Male   | Married-civ-spouse |\n| Male   | Married-civ-spouse |\n| Male   | Married-civ-spouse |\n| Female | Divorced           |\n| Male   | Never-married      |\n| Female | Divorced           |\n| Male   | Married-civ-spouse |\n| Female | Widowed            |\n\n",
            "text/latex": "A data.frame: 6144 × 2\n\\begin{tabular}{ll}\n sex & marital\\\\\n <chr> & <chr>\\\\\n\\hline\n\t Male   & Married-civ-spouse   \\\\\n\t Female & Married-spouse-absent\\\\\n\t Male   & Married-civ-spouse   \\\\\n\t Male   & Married-civ-spouse   \\\\\n\t Male   & Married-civ-spouse   \\\\\n\t Female & Divorced             \\\\\n\t Male   & Divorced             \\\\\n\t Male   & Divorced             \\\\\n\t Male   & Married-civ-spouse   \\\\\n\t Female & Married-civ-spouse   \\\\\n\t Male   & Married-civ-spouse   \\\\\n\t Male   & Married-civ-spouse   \\\\\n\t Male   & Married-civ-spouse   \\\\\n\t Female & Divorced             \\\\\n\t Male   & Married-civ-spouse   \\\\\n\t Female & Never-married        \\\\\n\t Male   & Married-civ-spouse   \\\\\n\t Male   & Married-civ-spouse   \\\\\n\t Female & Never-married        \\\\\n\t Male   & Married-civ-spouse   \\\\\n\t Male   & Married-civ-spouse   \\\\\n\t Male   & Married-civ-spouse   \\\\\n\t Male   & Married-civ-spouse   \\\\\n\t Male   & Married-civ-spouse   \\\\\n\t Male   & Married-civ-spouse   \\\\\n\t Female & Never-married        \\\\\n\t Male   & Divorced             \\\\\n\t Male   & Separated            \\\\\n\t Female & Divorced             \\\\\n\t Male   & Widowed              \\\\\n\t ⋮ & ⋮\\\\\n\t Male   & Married-civ-spouse\\\\\n\t Male   & Married-civ-spouse\\\\\n\t Female & Widowed           \\\\\n\t Male   & Married-civ-spouse\\\\\n\t Male   & Married-civ-spouse\\\\\n\t Male   & Married-civ-spouse\\\\\n\t Female & Widowed           \\\\\n\t Male   & Married-civ-spouse\\\\\n\t Male   & Married-civ-spouse\\\\\n\t Female & Widowed           \\\\\n\t Female & Never-married     \\\\\n\t Female & Divorced          \\\\\n\t Male   & Divorced          \\\\\n\t Female & Married-civ-spouse\\\\\n\t Male   & Married-civ-spouse\\\\\n\t Female & Separated         \\\\\n\t Male   & Divorced          \\\\\n\t Male   & Never-married     \\\\\n\t Male   & Married-civ-spouse\\\\\n\t Male   & Married-civ-spouse\\\\\n\t Female & Divorced          \\\\\n\t Female & Married-civ-spouse\\\\\n\t Male   & Married-civ-spouse\\\\\n\t Male   & Married-civ-spouse\\\\\n\t Male   & Married-civ-spouse\\\\\n\t Female & Divorced          \\\\\n\t Male   & Never-married     \\\\\n\t Female & Divorced          \\\\\n\t Male   & Married-civ-spouse\\\\\n\t Female & Widowed           \\\\\n\\end{tabular}\n",
            "text/plain": [
              "     sex    marital              \n",
              "1    Male   Married-civ-spouse   \n",
              "2    Female Married-spouse-absent\n",
              "3    Male   Married-civ-spouse   \n",
              "4    Male   Married-civ-spouse   \n",
              "5    Male   Married-civ-spouse   \n",
              "6    Female Divorced             \n",
              "7    Male   Divorced             \n",
              "8    Male   Divorced             \n",
              "9    Male   Married-civ-spouse   \n",
              "10   Female Married-civ-spouse   \n",
              "11   Male   Married-civ-spouse   \n",
              "12   Male   Married-civ-spouse   \n",
              "13   Male   Married-civ-spouse   \n",
              "14   Female Divorced             \n",
              "15   Male   Married-civ-spouse   \n",
              "16   Female Never-married        \n",
              "17   Male   Married-civ-spouse   \n",
              "18   Male   Married-civ-spouse   \n",
              "19   Female Never-married        \n",
              "20   Male   Married-civ-spouse   \n",
              "21   Male   Married-civ-spouse   \n",
              "22   Male   Married-civ-spouse   \n",
              "23   Male   Married-civ-spouse   \n",
              "24   Male   Married-civ-spouse   \n",
              "25   Male   Married-civ-spouse   \n",
              "26   Female Never-married        \n",
              "27   Male   Divorced             \n",
              "28   Male   Separated            \n",
              "29   Female Divorced             \n",
              "30   Male   Widowed              \n",
              "⋮    ⋮      ⋮                    \n",
              "6115 Male   Married-civ-spouse   \n",
              "6116 Male   Married-civ-spouse   \n",
              "6117 Female Widowed              \n",
              "6118 Male   Married-civ-spouse   \n",
              "6119 Male   Married-civ-spouse   \n",
              "6120 Male   Married-civ-spouse   \n",
              "6121 Female Widowed              \n",
              "6122 Male   Married-civ-spouse   \n",
              "6123 Male   Married-civ-spouse   \n",
              "6124 Female Widowed              \n",
              "6125 Female Never-married        \n",
              "6126 Female Divorced             \n",
              "6127 Male   Divorced             \n",
              "6128 Female Married-civ-spouse   \n",
              "6129 Male   Married-civ-spouse   \n",
              "6130 Female Separated            \n",
              "6131 Male   Divorced             \n",
              "6132 Male   Never-married        \n",
              "6133 Male   Married-civ-spouse   \n",
              "6134 Male   Married-civ-spouse   \n",
              "6135 Female Divorced             \n",
              "6136 Female Married-civ-spouse   \n",
              "6137 Male   Married-civ-spouse   \n",
              "6138 Male   Married-civ-spouse   \n",
              "6139 Male   Married-civ-spouse   \n",
              "6140 Female Divorced             \n",
              "6141 Male   Never-married        \n",
              "6142 Female Divorced             \n",
              "6143 Male   Married-civ-spouse   \n",
              "6144 Female Widowed              "
            ]
          },
          "metadata": {}
        }
      ]
    },
    {
      "cell_type": "code",
      "source": [
        "#contingency\n",
        "sexMarital40 = table(a40DF$sex, a40DF$marital)\n",
        "ftable(sexMarital40)"
      ],
      "metadata": {
        "colab": {
          "base_uri": "https://localhost:8080/",
          "height": 86
        },
        "id": "AWFapoxQhJB4",
        "outputId": "3ba24a39-0c19-44bf-8536-ebe4d45e800d"
      },
      "execution_count": null,
      "outputs": [
        {
          "output_type": "display_data",
          "data": {
            "text/plain": [
              "        Divorced Married-civ-spouse Married-spouse-absent Never-married Separated Widowed\n",
              "                                                                                         \n",
              "Female       720                305                    38           256       133     354\n",
              "Male         448               3383                    47           315        74      71"
            ]
          },
          "metadata": {}
        }
      ]
    },
    {
      "cell_type": "markdown",
      "source": [
        "**Outliers for education**"
      ],
      "metadata": {
        "id": "C_KGvh26hcSK"
      }
    },
    {
      "cell_type": "code",
      "source": [
        "#get the boxplot stats and the outliers\n",
        "outliers_edu = boxplot.stats(data$education)$out\n",
        "#print the outliers\n",
        "print(data$education[outliers_edu])"
      ],
      "metadata": {
        "colab": {
          "base_uri": "https://localhost:8080/"
        },
        "id": "QKhfEX_Ahfdf",
        "outputId": "54a5674e-e3a6-4fd3-9517-d802098a6b63"
      },
      "execution_count": null,
      "outputs": [
        {
          "output_type": "stream",
          "name": "stdout",
          "text": [
            "  [1]  9  9 13  9  5  9  9  5  9  9  5  9  9  9  9  5  9  9  9  9  5  9  9  9  9\n",
            " [26]  9  5  9  9  9  9  5  9  9  5  9  5  9  5  9  9  5 13 13  5  9  5  9  9  9\n",
            " [51]  5  9  5 13  9  9  9  9  5  9  9  5  9  9 13  9  9  9  9  5  5  5  9  9  9\n",
            " [76]  9  5  9  9  9  9  5  9  5  9  5  5  5  9  9  9  9  5  9  9  9 13  9  9  9\n",
            "[101]  9  9  9  9  9 13  9  9  9  9  9  9  9  9  9 13  9  9  9  9 13 13  9  5  9\n",
            "[126]  9  9  9  9  9 13  9  9  5  9  5  5  9  5  9  5  5  9  5  9  5  5  9  5  5\n",
            "[151]  9  9  9  5  9  5  9  5  5  5  9  9  5  5  9  9  5  5  9  9  9  9 13  9  9\n",
            "[176]  9  5  9  5  9  9  9  5 13  9  5  5  9  9  9  9  5  9  5  9  9  9  9  9  9\n",
            "[201]  5  9  9  9  9  9  5  9  9  9  9  9  5  5  9  5  9  9  9  9  9  9  5  9  9\n",
            "[226]  9  5  5  5  9  9  9  9  9  9  5  9  5  9  9  9  9  9  5  9  5  9  9  9  5\n",
            "[251]  5  5  5  9  9  9  9  9  9  9  9  9  9  9  9  9  9  5  9  9  9 13  9  9  9\n",
            "[276]  5  9  9  9  9  5  9  9  9  5  9  5  9  9  9  9  5  5  9  5  9  9  5  9  9\n",
            "[301]  5  9  9  9  5  5  9  5  5  9  9  9  9  9  9  5  9  9  9  9  5  9  9  5  9\n",
            "[326]  9  9  9  9  9  9  5  9  5  9  5  9  5  5  9  9  9  5  9  9  9  5  9  9  5\n",
            "[351]  9 13  9  9  9  5  9 13  5 13  5  9  5  9  5 13  9  5  5  9  9  9  9  9  5\n",
            "[376]  5  5  9  5  5  9  5  9  9  9  5  9  9  9  5  9  9  9  5  9  5  9  9 13  9\n",
            "[401]  9  9  9  9  9  9  9  9 13  9 13  9  9  5 13  9  9  5  9  5  9  9  9  9  9\n",
            "[426]  5  9  9  9  9  9  9  5  9  9 13  9  9  5  9  5  9  5  9  9  9  5  9  9  5\n",
            "[451]  5  5  9  9  5  5  9  9  5  5  5  5  9  9  9  5  5  9  9  9  9  9  9  9  5\n",
            "[476]  5  9  5  9  9  9  5  9  5  5  5  5  9  9  9  9  9  9  9  9  9  9  9  5  9\n",
            "[501]  9  9  9  9  5  9  9  9  9  9  9  9  5  9  9  5  5  5  5  5  9  9  9  9  9\n",
            "[526]  9  9  9  5  9  9  9  5  9  9  9  5  9  9  9  9  9 13  9  9  5  5  9  9  5\n",
            "[551]  9  9\n"
          ]
        }
      ]
    },
    {
      "cell_type": "markdown",
      "source": [
        "**Standardize the mean**"
      ],
      "metadata": {
        "id": "alsizXtOmp5-"
      }
    },
    {
      "cell_type": "code",
      "source": [
        "standardised_age = scale(data$age)\n",
        "outliers_age = which(standardised_age > 3 | standardised_age < -3)\n",
        "outliers_age\n",
        "#how many outliers are there?\n",
        "num_outliers_age = length(outliers_age)\n",
        "num_outliers_age\n",
        "#the most extreme outlier?\n",
        "print(max(outliers_age))\n"
      ],
      "metadata": {
        "colab": {
          "base_uri": "https://localhost:8080/",
          "height": 121
        },
        "id": "enMsVmQNm4Ak",
        "outputId": "17101c17-c650-4691-d9ab-6111076796a2"
      },
      "execution_count": null,
      "outputs": [
        {
          "output_type": "display_data",
          "data": {
            "text/html": [
              "<style>\n",
              ".list-inline {list-style: none; margin:0; padding: 0}\n",
              ".list-inline>li {display: inline-block}\n",
              ".list-inline>li:not(:last-child)::after {content: \"\\00b7\"; padding: 0 .5ex}\n",
              "</style>\n",
              "<ol class=list-inline><li>100</li><li>205</li><li>493</li><li>553</li><li>886</li><li>1067</li><li>1486</li><li>2421</li><li>2431</li><li>2468</li><li>2878</li><li>3454</li><li>3869</li><li>3892</li><li>4009</li><li>4115</li><li>4644</li><li>4681</li><li>5155</li><li>5482</li><li>5937</li><li>5962</li><li>6451</li><li>6477</li><li>7148</li><li>7255</li><li>7652</li><li>7725</li><li>8347</li><li>8406</li><li>8478</li><li>8609</li><li>8769</li><li>8774</li><li>8786</li><li>8922</li><li>9370</li><li>9398</li><li>9562</li><li>9858</li><li>10159</li><li>10283</li><li>10469</li><li>10471</li><li>10992</li><li>11092</li><li>11109</li><li>11235</li><li>11563</li><li>11605</li><li>12657</li><li>12949</li><li>13456</li><li>14092</li><li>14282</li><li>14456</li><li>14472</li><li>14661</li><li>14747</li><li>14767</li></ol>\n"
            ],
            "text/markdown": "1. 100\n2. 205\n3. 493\n4. 553\n5. 886\n6. 1067\n7. 1486\n8. 2421\n9. 2431\n10. 2468\n11. 2878\n12. 3454\n13. 3869\n14. 3892\n15. 4009\n16. 4115\n17. 4644\n18. 4681\n19. 5155\n20. 5482\n21. 5937\n22. 5962\n23. 6451\n24. 6477\n25. 7148\n26. 7255\n27. 7652\n28. 7725\n29. 8347\n30. 8406\n31. 8478\n32. 8609\n33. 8769\n34. 8774\n35. 8786\n36. 8922\n37. 9370\n38. 9398\n39. 9562\n40. 9858\n41. 10159\n42. 10283\n43. 10469\n44. 10471\n45. 10992\n46. 11092\n47. 11109\n48. 11235\n49. 11563\n50. 11605\n51. 12657\n52. 12949\n53. 13456\n54. 14092\n55. 14282\n56. 14456\n57. 14472\n58. 14661\n59. 14747\n60. 14767\n\n\n",
            "text/latex": "\\begin{enumerate*}\n\\item 100\n\\item 205\n\\item 493\n\\item 553\n\\item 886\n\\item 1067\n\\item 1486\n\\item 2421\n\\item 2431\n\\item 2468\n\\item 2878\n\\item 3454\n\\item 3869\n\\item 3892\n\\item 4009\n\\item 4115\n\\item 4644\n\\item 4681\n\\item 5155\n\\item 5482\n\\item 5937\n\\item 5962\n\\item 6451\n\\item 6477\n\\item 7148\n\\item 7255\n\\item 7652\n\\item 7725\n\\item 8347\n\\item 8406\n\\item 8478\n\\item 8609\n\\item 8769\n\\item 8774\n\\item 8786\n\\item 8922\n\\item 9370\n\\item 9398\n\\item 9562\n\\item 9858\n\\item 10159\n\\item 10283\n\\item 10469\n\\item 10471\n\\item 10992\n\\item 11092\n\\item 11109\n\\item 11235\n\\item 11563\n\\item 11605\n\\item 12657\n\\item 12949\n\\item 13456\n\\item 14092\n\\item 14282\n\\item 14456\n\\item 14472\n\\item 14661\n\\item 14747\n\\item 14767\n\\end{enumerate*}\n",
            "text/plain": [
              " [1]   100   205   493   553   886  1067  1486  2421  2431  2468  2878  3454\n",
              "[13]  3869  3892  4009  4115  4644  4681  5155  5482  5937  5962  6451  6477\n",
              "[25]  7148  7255  7652  7725  8347  8406  8478  8609  8769  8774  8786  8922\n",
              "[37]  9370  9398  9562  9858 10159 10283 10469 10471 10992 11092 11109 11235\n",
              "[49] 11563 11605 12657 12949 13456 14092 14282 14456 14472 14661 14747 14767"
            ]
          },
          "metadata": {}
        },
        {
          "output_type": "display_data",
          "data": {
            "text/html": [
              "60"
            ],
            "text/markdown": "60",
            "text/latex": "60",
            "text/plain": [
              "[1] 60"
            ]
          },
          "metadata": {}
        },
        {
          "output_type": "stream",
          "name": "stdout",
          "text": [
            "[1] 14767\n"
          ]
        }
      ]
    },
    {
      "cell_type": "markdown",
      "source": [
        ">>How many outliers are there: 60 | Most extreme outlier: 14767"
      ],
      "metadata": {
        "id": "GEg3npiaoG7D"
      }
    },
    {
      "cell_type": "markdown",
      "source": [
        "**Age anomaly**"
      ],
      "metadata": {
        "id": "Zb-Jt6Jiok_4"
      }
    },
    {
      "cell_type": "code",
      "source": [
        "# Filter the dataset for people above the age of 80\n",
        "filtered_df <- data[data$age > 80, ]\n",
        "\n",
        "# Create a contingency table for sex vs. workclass\n",
        "table_workclass <- table(filtered_df$workclass, filtered_df$sex)\n",
        "\n",
        "# Create a contingency table for sex vs. education\n",
        "table_education <- table(filtered_df$education, filtered_df$sex)\n",
        "\n",
        "# Create a contingency table for sex vs. marital status\n",
        "table_marital_status <- table(filtered_df$marital.status, filtered_df$sex)\n",
        "\n",
        "# Print the contingency tables\n",
        "print(\"Contingency Table for Sex vs. Workclass:\")\n",
        "print(table_workclass)\n",
        "\n",
        "print(\"Contingency Table for Sex vs. Education:\")\n",
        "print(table_education)\n",
        "\n",
        "print(\"Contingency Table for Sex vs. Marital Status:\")\n",
        "print(table_marital_status)"
      ],
      "metadata": {
        "colab": {
          "base_uri": "https://localhost:8080/"
        },
        "id": "bQdi79Qca0es",
        "outputId": "a10c0344-5512-4208-cf54-705fb9aad4b4"
      },
      "execution_count": 14,
      "outputs": [
        {
          "output_type": "stream",
          "name": "stdout",
          "text": [
            "[1] \"Contingency Table for Sex vs. Workclass:\"\n",
            "                  \n",
            "                   Female Male\n",
            "  ?                     3    8\n",
            "  Federal-gov           0    1\n",
            "  Local-gov             0    2\n",
            "  Private              10   16\n",
            "  Self-emp-inc          0    4\n",
            "  Self-emp-not-inc      1    5\n",
            "[1] \"Contingency Table for Sex vs. Education:\"\n",
            "    \n",
            "     Female Male\n",
            "  2       1    1\n",
            "  3       0    3\n",
            "  4       1    4\n",
            "  5       1    0\n",
            "  6       0    2\n",
            "  9       5   12\n",
            "  10      2    4\n",
            "  12      0    1\n",
            "  13      2    7\n",
            "  14      2    1\n",
            "  15      0    1\n",
            "[1] \"Contingency Table for Sex vs. Marital Status:\"\n",
            "                    \n",
            "                     Female Male\n",
            "  Divorced                2    1\n",
            "  Married-civ-spouse      1   19\n",
            "  Never-married           5    5\n",
            "  Separated               1    0\n",
            "  Widowed                 5   11\n"
          ]
        }
      ]
    },
    {
      "cell_type": "code",
      "source": [
        "# Calculate row percentages\n",
        "row_percentages <- prop.table(table_workclass, margin = 1) * 100\n",
        "\n",
        "# Calculate column percentages\n",
        "column_percentages <- prop.table(table_workclass, margin = 2) * 100\n",
        "\n",
        "# Print row percentages\n",
        "print(\"Workclass Row Percentages:\")\n",
        "print(row_percentages)\n",
        "\n",
        "# Print column percentages\n",
        "print(\"Workclass Column Percentages:\")\n",
        "print(column_percentages)\n"
      ],
      "metadata": {
        "colab": {
          "base_uri": "https://localhost:8080/"
        },
        "id": "mfDKwKBAeEAQ",
        "outputId": "6d4ab5fb-0cd1-45f8-a967-c607502ff434"
      },
      "execution_count": 15,
      "outputs": [
        {
          "output_type": "stream",
          "name": "stdout",
          "text": [
            "[1] \"Row Percentages:\"\n",
            "                  \n",
            "                      Female      Male\n",
            "  ?                 27.27273  72.72727\n",
            "  Federal-gov        0.00000 100.00000\n",
            "  Local-gov          0.00000 100.00000\n",
            "  Private           38.46154  61.53846\n",
            "  Self-emp-inc       0.00000 100.00000\n",
            "  Self-emp-not-inc  16.66667  83.33333\n",
            "[1] \"Column Percentages:\"\n",
            "                  \n",
            "                      Female      Male\n",
            "  ?                21.428571 22.222222\n",
            "  Federal-gov       0.000000  2.777778\n",
            "  Local-gov         0.000000  5.555556\n",
            "  Private          71.428571 44.444444\n",
            "  Self-emp-inc      0.000000 11.111111\n",
            "  Self-emp-not-inc  7.142857 13.888889\n"
          ]
        }
      ]
    },
    {
      "cell_type": "code",
      "source": [
        "# Calculate row percentages\n",
        "row_percentages <- prop.table(table_education, margin = 1) * 100\n",
        "\n",
        "# Calculate column percentages\n",
        "column_percentages <- prop.table(table_education, margin = 2) * 100\n",
        "\n",
        "# Print row percentages\n",
        "print(\"Education Row Percentages:\")\n",
        "print(row_percentages)\n",
        "\n",
        "# Print column percentages\n",
        "print(\"Education Column Percentages:\")\n",
        "print(column_percentages)\n"
      ],
      "metadata": {
        "colab": {
          "base_uri": "https://localhost:8080/"
        },
        "id": "zx9wmFQ3edpY",
        "outputId": "0f038672-957d-49bd-f3b7-694da8869aa4"
      },
      "execution_count": 17,
      "outputs": [
        {
          "output_type": "stream",
          "name": "stdout",
          "text": [
            "[1] \"Education Row Percentages:\"\n",
            "    \n",
            "        Female      Male\n",
            "  2   50.00000  50.00000\n",
            "  3    0.00000 100.00000\n",
            "  4   20.00000  80.00000\n",
            "  5  100.00000   0.00000\n",
            "  6    0.00000 100.00000\n",
            "  9   29.41176  70.58824\n",
            "  10  33.33333  66.66667\n",
            "  12   0.00000 100.00000\n",
            "  13  22.22222  77.77778\n",
            "  14  66.66667  33.33333\n",
            "  15   0.00000 100.00000\n",
            "[1] \"Education Column Percentages:\"\n",
            "    \n",
            "        Female      Male\n",
            "  2   7.142857  2.777778\n",
            "  3   0.000000  8.333333\n",
            "  4   7.142857 11.111111\n",
            "  5   7.142857  0.000000\n",
            "  6   0.000000  5.555556\n",
            "  9  35.714286 33.333333\n",
            "  10 14.285714 11.111111\n",
            "  12  0.000000  2.777778\n",
            "  13 14.285714 19.444444\n",
            "  14 14.285714  2.777778\n",
            "  15  0.000000  2.777778\n"
          ]
        }
      ]
    },
    {
      "cell_type": "code",
      "source": [
        "# Calculate row percentages\n",
        "row_percentages <- prop.table(table_marital_status, margin = 1) * 100\n",
        "\n",
        "# Calculate column percentages\n",
        "column_percentages <- prop.table(table_marital_status, margin = 2) * 100\n",
        "\n",
        "# Print row percentages\n",
        "print(\"Row Percentages:\")\n",
        "print(row_percentages)\n",
        "\n",
        "# Print column percentages\n",
        "print(\"Column Percentages:\")\n",
        "print(column_percentages)\n"
      ],
      "metadata": {
        "colab": {
          "base_uri": "https://localhost:8080/"
        },
        "id": "rpKj7ZimetU8",
        "outputId": "60b47805-ec46-4b64-9ac0-c9df26198a86"
      },
      "execution_count": 18,
      "outputs": [
        {
          "output_type": "stream",
          "name": "stdout",
          "text": [
            "[1] \"Row Percentages:\"\n",
            "                    \n",
            "                        Female      Male\n",
            "  Divorced            66.66667  33.33333\n",
            "  Married-civ-spouse   5.00000  95.00000\n",
            "  Never-married       50.00000  50.00000\n",
            "  Separated          100.00000   0.00000\n",
            "  Widowed             31.25000  68.75000\n",
            "[1] \"Column Percentages:\"\n",
            "                    \n",
            "                        Female      Male\n",
            "  Divorced           14.285714  2.777778\n",
            "  Married-civ-spouse  7.142857 52.777778\n",
            "  Never-married      35.714286 13.888889\n",
            "  Separated           7.142857  0.000000\n",
            "  Widowed            35.714286 30.555556\n"
          ]
        }
      ]
    },
    {
      "cell_type": "markdown",
      "source": [
        ">This is the analysis for people over 80. We are looking at males and females and comparing workclass, education, marital status. We can see the row percentages(what males and females make up which category) and the column percentage(out of the categories what gender is it mainly compromised of)"
      ],
      "metadata": {
        "id": "5C92PgBagoX4"
      }
    },
    {
      "cell_type": "code",
      "source": [
        "age_anomaly = data[data$age>=80, ]\n",
        "hist(age_anomaly$age, breaks = seq(80, max(age_anomaly$age), by = 2), col = 'lightblue')"
      ],
      "metadata": {
        "colab": {
          "base_uri": "https://localhost:8080/",
          "height": 437
        },
        "id": "gc9Mc7eFoXZC",
        "outputId": "0e8f7bd7-6926-40a6-a5e2-2c4d556e157c"
      },
      "execution_count": 4,
      "outputs": [
        {
          "output_type": "display_data",
          "data": {
            "text/plain": [
              "Plot with title “Histogram of age_anomaly$age”"
            ],
            "image/png": "[encoded data removed]"
          },
          "metadata": {
            "image/png": {
              "width": 420,
              "height": 420
            }
          }
        }
      ]
    },
    {
      "cell_type": "markdown",
      "source": [
        ">As we can see people between the ages of 80-82 and 88-90 make up most of the ages of people above 80."
      ],
      "metadata": {
        "id": "-pHhRjWmvagm"
      }
    },
    {
      "cell_type": "markdown",
      "source": [
        "**Summary**"
      ],
      "metadata": {
        "id": "DpfJFcPit16e"
      }
    },
    {
      "cell_type": "markdown",
      "source": [
        ">As we can see from the analysis:\n",
        "We calculated the amount of female and males and their workclass associated with them. We calculated all females and males and their marital status. We did the same for just adults over 40 and we identifed any outliers in the education column. We then standardised age and looked at outliers and lastly we looked at people with ages above 80."
      ],
      "metadata": {
        "id": "ZWN7VjwEvUDs"
      }
    },
    {
      "cell_type": "markdown",
      "source": [],
      "metadata": {
        "id": "vfhV8aExx20x"
      }
    }
  ]
}
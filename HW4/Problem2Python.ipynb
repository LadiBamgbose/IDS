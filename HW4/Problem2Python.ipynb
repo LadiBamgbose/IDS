{
  "nbformat": 4,
  "nbformat_minor": 0,
  "metadata": {
    "colab": {
      "provenance": []
    },
    "kernelspec": {
      "name": "python3",
      "display_name": "Python 3"
    },
    "language_info": {
      "name": "python"
    }
  },
  "cells": [
    {
      "cell_type": "markdown",
      "source": [
        "#Problem 2 Python"
      ],
      "metadata": {
        "id": "D1MqRcQKn8We"
      }
    },
    {
      "cell_type": "code",
      "execution_count": 1,
      "metadata": {
        "id": "NZoW68WcnmdG"
      },
      "outputs": [],
      "source": [
        "import pandas as pd\n",
        "import matplotlib.pyplot as plt\n",
        "import seaborn as sns\n",
        "import numpy as np\n"
      ]
    },
    {
      "cell_type": "code",
      "source": [
        "#reading data\n",
        "data = pd.read_csv(\"/content/nutrition_subset.csv\")"
      ],
      "metadata": {
        "id": "o7JT0WJ6zCDy"
      },
      "execution_count": 2,
      "outputs": []
    },
    {
      "cell_type": "markdown",
      "source": [
        "**Cleaning Data**"
      ],
      "metadata": {
        "id": "AP7UdKl_PxyR"
      }
    },
    {
      "cell_type": "code",
      "source": [
        "# Check for missing values\n",
        "missing_values = data.isnull().sum()\n",
        "print(missing_values)"
      ],
      "metadata": {
        "colab": {
          "base_uri": "https://localhost:8080/"
        },
        "id": "cRLk3kaPP0gf",
        "outputId": "f46546d3-8b74-432c-ab2e-8d23056aa9fc"
      },
      "execution_count": 3,
      "outputs": [
        {
          "output_type": "stream",
          "name": "stdout",
          "text": [
            "food item          0\n",
            "weight_in_grams    0\n",
            "saturated_fat      0\n",
            "cholesterol        0\n",
            "dtype: int64\n"
          ]
        }
      ]
    },
    {
      "cell_type": "markdown",
      "source": [
        ">no missing values"
      ],
      "metadata": {
        "id": "K5L5kx1UP3BG"
      }
    },
    {
      "cell_type": "markdown",
      "source": [
        "**Sorting saturated fat**"
      ],
      "metadata": {
        "id": "V2mGHGti0gus"
      }
    },
    {
      "cell_type": "code",
      "source": [
        "saturated_fat_sorted = data.sort_values(by='saturated_fat', ascending=False)\n",
        "top_5_saturated_fat = saturated_fat_sorted.head(5)\n",
        "print(\"Top 5 Food Items Highest in Saturated Fat:\")\n",
        "print(top_5_saturated_fat)"
      ],
      "metadata": {
        "colab": {
          "base_uri": "https://localhost:8080/"
        },
        "id": "5IrLuCYV0jyZ",
        "outputId": "6b575b04-3092-4491-c5b5-8b7e1cb1be47"
      },
      "execution_count": 6,
      "outputs": [
        {
          "output_type": "stream",
          "name": "stdout",
          "text": [
            "Top 5 Food Items Highest in Saturated Fat:\n",
            "                                  food item  weight_in_grams  saturated_fat  \\\n",
            "378  CHEESECAKE                    1 CAKE             1110.0          119.9   \n",
            "535  ICE CREAM; VANLLA; RICH 16% FT1/2 GAL            1188.0          118.3   \n",
            "458  YELLOWCAKE W/ CHOCFRSTNG;COMML1 CAKE             1108.0           92.0   \n",
            "581  CREME PIE                     1 PIE               910.0           90.1   \n",
            "890  LARD                          1 CUP               205.0           80.4   \n",
            "\n",
            "     cholesterol  \n",
            "378         2053  \n",
            "535          703  \n",
            "458          609  \n",
            "581           46  \n",
            "890          195  \n"
          ]
        }
      ]
    },
    {
      "cell_type": "markdown",
      "source": [
        "**Saturated fat per gram**"
      ],
      "metadata": {
        "id": "cEQRp5sX2PfB"
      }
    },
    {
      "cell_type": "code",
      "source": [
        "data['saturated_fat_per_gram'] = data['saturated_fat'] / data['weight_in_grams']\n",
        "saturated_fat_per_gram_sorted = data.sort_values(by='saturated_fat_per_gram', ascending=False)\n",
        "top_5_saturated_fat_per_gram = saturated_fat_per_gram_sorted.head(5)\n",
        "print(\"\\nTop 5 Food Items Highest in Saturated Fat Per Gram:\")\n",
        "print(top_5_saturated_fat_per_gram)"
      ],
      "metadata": {
        "colab": {
          "base_uri": "https://localhost:8080/"
        },
        "id": "0jP1lGte2ULW",
        "outputId": "ee1bedd1-6f53-4e42-d72f-da0735ad5e24"
      },
      "execution_count": 8,
      "outputs": [
        {
          "output_type": "stream",
          "name": "stdout",
          "text": [
            "\n",
            "Top 5 Food Items Highest in Saturated Fat Per Gram:\n",
            "                                  food item  weight_in_grams  saturated_fat  \\\n",
            "908  BUTTER; SALTED                1 TBSP               14.0            7.1   \n",
            "909  BUTTER; UNSALTED              1 TBSP               14.0            7.1   \n",
            "710  BUTTER; UNSALTED              1/2 CUP             113.0           57.1   \n",
            "709  BUTTER; SALTED                1/2 CUP             113.0           57.1   \n",
            "913  BUTTER; UNSALTED              1 PAT                 5.0            2.5   \n",
            "\n",
            "     cholesterol  saturated_fat_per_gram  \n",
            "908           31                0.507143  \n",
            "909           31                0.507143  \n",
            "710          247                0.505310  \n",
            "709          247                0.505310  \n",
            "913           11                0.500000  \n"
          ]
        }
      ]
    },
    {
      "cell_type": "markdown",
      "source": [
        ">Salted butter has the hgihest saturated fat per gram"
      ],
      "metadata": {
        "id": "iNGNw0r72xx1"
      }
    },
    {
      "cell_type": "markdown",
      "source": [
        "**Standardize saturated fat per gram**"
      ],
      "metadata": {
        "id": "_ITGq6mT22ku"
      }
    },
    {
      "cell_type": "code",
      "source": [
        "z_scores = (data['saturated_fat_per_gram'] - data['saturated_fat_per_gram'].mean()) / data['saturated_fat_per_gram'].std()\n",
        "high_end_outliers = data[z_scores > 3]\n",
        "low_end_outliers = data[z_scores < -3]\n",
        "print(\"\\nNumber of High-End Outliers:\", len(high_end_outliers))\n",
        "print(\"Number of Low-End Outliers:\", len(low_end_outliers))"
      ],
      "metadata": {
        "colab": {
          "base_uri": "https://localhost:8080/"
        },
        "id": "aEAYel4C6Hx1",
        "outputId": "0d2acf46-ae49-4be0-ceb6-75f8e922a334"
      },
      "execution_count": 9,
      "outputs": [
        {
          "output_type": "stream",
          "name": "stdout",
          "text": [
            "\n",
            "Number of High-End Outliers: 15\n",
            "Number of Low-End Outliers: 0\n"
          ]
        }
      ]
    },
    {
      "cell_type": "code",
      "source": [
        "#create density plot\n",
        "plt.figure(figsize=(8, 4))\n",
        "sns.histplot(data['saturated_fat_per_gram'], kde=True)\n",
        "plt.title(\"Density Plot of Saturated Fat Per Gram\")\n",
        "plt.xlabel(\"Saturated Fat Per Gram\")\n",
        "plt.ylabel(\"Density\")\n",
        "plt.show()"
      ],
      "metadata": {
        "colab": {
          "base_uri": "https://localhost:8080/",
          "height": 410
        },
        "id": "neTs6WkV6u6u",
        "outputId": "afc523e8-c615-4995-b556-9b09730621fa"
      },
      "execution_count": 10,
      "outputs": [
        {
          "output_type": "display_data",
          "data": {
            "text/plain": [
              "<Figure size 800x400 with 1 Axes>"
            ],
            "image/png": "[encoded data removed]"
          },
          "metadata": {}
        }
      ]
    },
    {
      "cell_type": "markdown",
      "source": [
        "**Missing values**"
      ],
      "metadata": {
        "id": "Y_XBZ5Of62iA"
      }
    },
    {
      "cell_type": "code",
      "source": [
        "# Check for missing values in the dataset\n",
        "missing_values = data.isna().sum()\n",
        "\n",
        "# Display the count of missing values for each column\n",
        "print(\"Missing Values:\")\n",
        "print(missing_values)\n"
      ],
      "metadata": {
        "colab": {
          "base_uri": "https://localhost:8080/"
        },
        "id": "vO2o4rLB64kq",
        "outputId": "695e6151-ae67-47c7-820b-5b1debbc56f9"
      },
      "execution_count": 12,
      "outputs": [
        {
          "output_type": "stream",
          "name": "stdout",
          "text": [
            "Missing Values:\n",
            "food item                 0\n",
            "weight_in_grams           0\n",
            "saturated_fat             0\n",
            "cholesterol               0\n",
            "saturated_fat_per_gram    0\n",
            "dtype: int64\n"
          ]
        }
      ]
    },
    {
      "cell_type": "markdown",
      "source": [
        "**Standardize numeric variables and identify outliers**"
      ],
      "metadata": {
        "id": "qMNR3hgC7Wlb"
      }
    },
    {
      "cell_type": "code",
      "source": [
        "# Define the z-score threshold for outliers\n",
        "z_threshold = 3\n",
        "\n",
        "#numeric columns\n",
        "numeric_columns = data.select_dtypes(include=['number']).columns\n",
        "\n",
        "# Identify outliers in numeric variables using z-scores\n",
        "z_scores = (data[numeric_columns] - data[numeric_columns].mean()) / data[numeric_columns].std()\n",
        "outliers = ((z_scores > z_threshold) | (z_scores < -z_threshold)).sum()\n",
        "\n",
        "# Print the count of outliers\n",
        "print(\"\\nNumber of Outliers in Numeric Variables:\")\n",
        "print(outliers)"
      ],
      "metadata": {
        "colab": {
          "base_uri": "https://localhost:8080/"
        },
        "id": "Tv7OH4K-7l3n",
        "outputId": "56473ca2-001f-4513-d9f1-2eb46be75d3f"
      },
      "execution_count": 5,
      "outputs": [
        {
          "output_type": "stream",
          "name": "stdout",
          "text": [
            "\n",
            "Number of Outliers in Numeric Variables:\n",
            "weight_in_grams    22\n",
            "saturated_fat      20\n",
            "cholesterol        17\n",
            "dtype: int64\n"
          ]
        }
      ]
    },
    {
      "cell_type": "markdown",
      "source": [
        "**Summary**"
      ],
      "metadata": {
        "id": "rMPpQ_zcTkcA"
      }
    },
    {
      "cell_type": "markdown",
      "source": [
        ">As you can see we sorted the data by satured fat and we saw the top 5 highest saturated food items. We then created a new variable called saturated fat per gram and saw the top 5 highest foods in that category. We then saw the outliers in this category and made a density plot of saturated fat per gram. We saw in the beginning that there were no missing values and we can see the columns at the end that have outliers."
      ],
      "metadata": {
        "id": "upHI9vQDTn6B"
      }
    }
  ]
}
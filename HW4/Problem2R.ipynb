{
  "nbformat": 4,
  "nbformat_minor": 0,
  "metadata": {
    "colab": {
      "provenance": []
    },
    "kernelspec": {
      "name": "ir",
      "display_name": "R"
    },
    "language_info": {
      "name": "R"
    }
  },
  "cells": [
    {
      "cell_type": "code",
      "execution_count": 1,
      "metadata": {
        "id": "XJxPudLI2L9S"
      },
      "outputs": [],
      "source": [
        "library(readr)\n",
        "data = read.csv(\"/content/nutrition_subset.csv\")"
      ]
    },
    {
      "cell_type": "markdown",
      "source": [
        "**Cleaning**"
      ],
      "metadata": {
        "id": "Luu9vfGfO1pb"
      }
    },
    {
      "cell_type": "code",
      "source": [
        "# Check for missing values\n",
        "missing_values <- colSums(is.na(data))\n",
        "print(missing_values)"
      ],
      "metadata": {
        "colab": {
          "base_uri": "https://localhost:8080/"
        },
        "id": "r5DENnLnO4GG",
        "outputId": "fa10dd17-d879-4710-ae4c-e8b9d137301e"
      },
      "execution_count": 2,
      "outputs": [
        {
          "output_type": "stream",
          "name": "stdout",
          "text": [
            "      food.item weight_in_grams   saturated_fat     cholesterol \n",
            "              0               0               0               0 \n"
          ]
        }
      ]
    },
    {
      "cell_type": "markdown",
      "source": [
        ">no missing values"
      ],
      "metadata": {
        "id": "SCa4feGkO_bC"
      }
    },
    {
      "cell_type": "markdown",
      "source": [
        "**Saturated fat sort**"
      ],
      "metadata": {
        "id": "tcBwxbeP3Cf8"
      }
    },
    {
      "cell_type": "code",
      "source": [
        "saturated_fat_sort = data[order(data$saturated_fat, decreasing = TRUE),][1:5,]\n",
        "saturated_fat_sort"
      ],
      "metadata": {
        "colab": {
          "base_uri": "https://localhost:8080/",
          "height": 290
        },
        "id": "v1OZRYR52uS7",
        "outputId": "7827fd71-34d9-4ae0-c9cf-063c9c404eea"
      },
      "execution_count": null,
      "outputs": [
        {
          "output_type": "display_data",
          "data": {
            "text/html": [
              "<table class=\"dataframe\">\n",
              "<caption>A data.frame: 5 × 4</caption>\n",
              "<thead>\n",
              "\t<tr><th></th><th scope=col>food.item</th><th scope=col>weight_in_grams</th><th scope=col>saturated_fat</th><th scope=col>cholesterol</th></tr>\n",
              "\t<tr><th></th><th scope=col>&lt;chr&gt;</th><th scope=col>&lt;dbl&gt;</th><th scope=col>&lt;dbl&gt;</th><th scope=col>&lt;int&gt;</th></tr>\n",
              "</thead>\n",
              "<tbody>\n",
              "\t<tr><th scope=row>379</th><td>CHEESECAKE                    1 CAKE  </td><td>1110</td><td>119.9</td><td>2053</td></tr>\n",
              "\t<tr><th scope=row>536</th><td>ICE CREAM; VANLLA; RICH 16% FT1/2 GAL </td><td>1188</td><td>118.3</td><td> 703</td></tr>\n",
              "\t<tr><th scope=row>459</th><td>YELLOWCAKE W/ CHOCFRSTNG;COMML1 CAKE  </td><td>1108</td><td> 92.0</td><td> 609</td></tr>\n",
              "\t<tr><th scope=row>582</th><td>CREME PIE                     1 PIE   </td><td> 910</td><td> 90.1</td><td>  46</td></tr>\n",
              "\t<tr><th scope=row>891</th><td>LARD                          1 CUP   </td><td> 205</td><td> 80.4</td><td> 195</td></tr>\n",
              "</tbody>\n",
              "</table>\n"
            ],
            "text/markdown": "\nA data.frame: 5 × 4\n\n| <!--/--> | food.item &lt;chr&gt; | weight_in_grams &lt;dbl&gt; | saturated_fat &lt;dbl&gt; | cholesterol &lt;int&gt; |\n|---|---|---|---|---|\n| 379 | CHEESECAKE                    1 CAKE   | 1110 | 119.9 | 2053 |\n| 536 | ICE CREAM; VANLLA; RICH 16% FT1/2 GAL  | 1188 | 118.3 |  703 |\n| 459 | YELLOWCAKE W/ CHOCFRSTNG;COMML1 CAKE   | 1108 |  92.0 |  609 |\n| 582 | CREME PIE                     1 PIE    |  910 |  90.1 |   46 |\n| 891 | LARD                          1 CUP    |  205 |  80.4 |  195 |\n\n",
            "text/latex": "A data.frame: 5 × 4\n\\begin{tabular}{r|llll}\n  & food.item & weight\\_in\\_grams & saturated\\_fat & cholesterol\\\\\n  & <chr> & <dbl> & <dbl> & <int>\\\\\n\\hline\n\t379 & CHEESECAKE                    1 CAKE   & 1110 & 119.9 & 2053\\\\\n\t536 & ICE CREAM; VANLLA; RICH 16\\% FT1/2 GAL  & 1188 & 118.3 &  703\\\\\n\t459 & YELLOWCAKE W/ CHOCFRSTNG;COMML1 CAKE   & 1108 &  92.0 &  609\\\\\n\t582 & CREME PIE                     1 PIE    &  910 &  90.1 &   46\\\\\n\t891 & LARD                          1 CUP    &  205 &  80.4 &  195\\\\\n\\end{tabular}\n",
            "text/plain": [
              "    food.item                              weight_in_grams saturated_fat\n",
              "379 CHEESECAKE                    1 CAKE   1110            119.9        \n",
              "536 ICE CREAM; VANLLA; RICH 16% FT1/2 GAL  1188            118.3        \n",
              "459 YELLOWCAKE W/ CHOCFRSTNG;COMML1 CAKE   1108             92.0        \n",
              "582 CREME PIE                     1 PIE     910             90.1        \n",
              "891 LARD                          1 CUP     205             80.4        \n",
              "    cholesterol\n",
              "379 2053       \n",
              "536  703       \n",
              "459  609       \n",
              "582   46       \n",
              "891  195       "
            ]
          },
          "metadata": {}
        }
      ]
    },
    {
      "cell_type": "markdown",
      "source": [
        "**Saturated fat per gram**"
      ],
      "metadata": {
        "id": "IJW6GyO_56KR"
      }
    },
    {
      "cell_type": "code",
      "source": [
        "data$saturated_fat_per_gram = data$saturated_fat  / data$weight_in_grams\n",
        "saturated_fat_per_gram_sort = data[order(data$saturated_fat_per_gram, decreasing = TRUE),][1:5,]\n",
        "saturated_fat_per_gram_sort"
      ],
      "metadata": {
        "colab": {
          "base_uri": "https://localhost:8080/",
          "height": 448
        },
        "id": "DEiUtwqn59K2",
        "outputId": "aee5a9d4-d76d-4503-c5a8-cdbadff7ec76"
      },
      "execution_count": null,
      "outputs": [
        {
          "output_type": "display_data",
          "data": {
            "text/html": [
              "<table class=\"dataframe\">\n",
              "<caption>A data.frame: 5 × 5</caption>\n",
              "<thead>\n",
              "\t<tr><th></th><th scope=col>food.item</th><th scope=col>weight_in_grams</th><th scope=col>saturated_fat</th><th scope=col>cholesterol</th><th scope=col>saturated_fat_per_gram</th></tr>\n",
              "\t<tr><th></th><th scope=col>&lt;chr&gt;</th><th scope=col>&lt;dbl&gt;</th><th scope=col>&lt;dbl&gt;</th><th scope=col>&lt;int&gt;</th><th scope=col>&lt;dbl&gt;</th></tr>\n",
              "</thead>\n",
              "<tbody>\n",
              "\t<tr><th scope=row>909</th><td>BUTTER; SALTED                1 TBSP  </td><td> 14</td><td> 7.1</td><td> 31</td><td>0.5071429</td></tr>\n",
              "\t<tr><th scope=row>910</th><td>BUTTER; UNSALTED              1 TBSP  </td><td> 14</td><td> 7.1</td><td> 31</td><td>0.5071429</td></tr>\n",
              "\t<tr><th scope=row>710</th><td>BUTTER; SALTED                1/2 CUP </td><td>113</td><td>57.1</td><td>247</td><td>0.5053097</td></tr>\n",
              "\t<tr><th scope=row>711</th><td>BUTTER; UNSALTED              1/2 CUP </td><td>113</td><td>57.1</td><td>247</td><td>0.5053097</td></tr>\n",
              "\t<tr><th scope=row>913</th><td>BUTTER; SALTED                1 PAT   </td><td>  5</td><td> 2.5</td><td> 11</td><td>0.5000000</td></tr>\n",
              "</tbody>\n",
              "</table>\n"
            ],
            "text/markdown": "\nA data.frame: 5 × 5\n\n| <!--/--> | food.item &lt;chr&gt; | weight_in_grams &lt;dbl&gt; | saturated_fat &lt;dbl&gt; | cholesterol &lt;int&gt; | saturated_fat_per_gram &lt;dbl&gt; |\n|---|---|---|---|---|---|\n| 909 | BUTTER; SALTED                1 TBSP   |  14 |  7.1 |  31 | 0.5071429 |\n| 910 | BUTTER; UNSALTED              1 TBSP   |  14 |  7.1 |  31 | 0.5071429 |\n| 710 | BUTTER; SALTED                1/2 CUP  | 113 | 57.1 | 247 | 0.5053097 |\n| 711 | BUTTER; UNSALTED              1/2 CUP  | 113 | 57.1 | 247 | 0.5053097 |\n| 913 | BUTTER; SALTED                1 PAT    |   5 |  2.5 |  11 | 0.5000000 |\n\n",
            "text/latex": "A data.frame: 5 × 5\n\\begin{tabular}{r|lllll}\n  & food.item & weight\\_in\\_grams & saturated\\_fat & cholesterol & saturated\\_fat\\_per\\_gram\\\\\n  & <chr> & <dbl> & <dbl> & <int> & <dbl>\\\\\n\\hline\n\t909 & BUTTER; SALTED                1 TBSP   &  14 &  7.1 &  31 & 0.5071429\\\\\n\t910 & BUTTER; UNSALTED              1 TBSP   &  14 &  7.1 &  31 & 0.5071429\\\\\n\t710 & BUTTER; SALTED                1/2 CUP  & 113 & 57.1 & 247 & 0.5053097\\\\\n\t711 & BUTTER; UNSALTED              1/2 CUP  & 113 & 57.1 & 247 & 0.5053097\\\\\n\t913 & BUTTER; SALTED                1 PAT    &   5 &  2.5 &  11 & 0.5000000\\\\\n\\end{tabular}\n",
            "text/plain": [
              "    food.item                              weight_in_grams saturated_fat\n",
              "909 BUTTER; SALTED                1 TBSP    14              7.1         \n",
              "910 BUTTER; UNSALTED              1 TBSP    14              7.1         \n",
              "710 BUTTER; SALTED                1/2 CUP  113             57.1         \n",
              "711 BUTTER; UNSALTED              1/2 CUP  113             57.1         \n",
              "913 BUTTER; SALTED                1 PAT      5              2.5         \n",
              "    cholesterol saturated_fat_per_gram\n",
              "909  31         0.5071429             \n",
              "910  31         0.5071429             \n",
              "710 247         0.5053097             \n",
              "711 247         0.5053097             \n",
              "913  11         0.5000000             "
            ]
          },
          "metadata": {}
        }
      ]
    },
    {
      "cell_type": "code",
      "source": [
        "#plotting\n",
        "# Create a density plot\n",
        "plot(density(data$saturated_fat_per_gram), main = \"Density Plot\", xlab = \"Saturated fat per gram\", ylab = \"Density\")\n"
      ],
      "metadata": {
        "colab": {
          "base_uri": "https://localhost:8080/",
          "height": 437
        },
        "id": "d5lEXrqTdYn0",
        "outputId": "945102f6-b7d6-435e-9ea1-309c4c51f57b"
      },
      "execution_count": null,
      "outputs": [
        {
          "output_type": "display_data",
          "data": {
            "text/plain": [
              "Plot with title “Density Plot”"
            ],
            "image/png": "[encoded data removed]"
          },
          "metadata": {
            "image/png": {
              "width": 420,
              "height": 420
            }
          }
        }
      ]
    },
    {
      "cell_type": "markdown",
      "source": [
        ">Butter that is salted has the highest saturated fat per gram"
      ],
      "metadata": {
        "id": "QPZn3Owx7He1"
      }
    },
    {
      "cell_type": "markdown",
      "source": [
        "**Standardise saturated fat per gram**"
      ],
      "metadata": {
        "id": "mwBFVOuY8F64"
      }
    },
    {
      "cell_type": "code",
      "source": [
        "data$saturated_fat_per_gram = scale(data$saturated_fat_per_gram)\n",
        "outliers_standard_high = which(data$saturated_fat_per_gram > 3)\n",
        "#high end outliers\n",
        "print(data$food.item[outliers_standard_high])\n",
        "outliers_standard_low = which(data$saturated_fat_per_gram < -3)\n",
        "\n",
        "\n",
        "#low end outliers (count)\n",
        "print(length(outliers_standard_low))"
      ],
      "metadata": {
        "colab": {
          "base_uri": "https://localhost:8080/"
        },
        "id": "EHh-wzF_8XVT",
        "outputId": "f4bde6a6-4b37-4998-b879-7d1d39e13d16"
      },
      "execution_count": null,
      "outputs": [
        {
          "output_type": "stream",
          "name": "stdout",
          "text": [
            " [1] \"CHOCOLATE; BITTER OT BAKING   1 OZ    \"\n",
            " [2] \"COCONUT; RAW; SHREDDED        1 CUP   \"\n",
            " [3] \"COCONUT; DRIED; SWEETND;SHREDD1 CUP   \"\n",
            " [4] \"COCONUT; RAW; PIECE           1 PIECE \"\n",
            " [5] \"BUTTER; SALTED                1/2 CUP \"\n",
            " [6] \"BUTTER; UNSALTED              1/2 CUP \"\n",
            " [7] \"LARD                          1 CUP   \"\n",
            " [8] \"FATS; COOKING/VEGETBL SHORTENG1 TBSP  \"\n",
            " [9] \"LARD                          1 TBSP  \"\n",
            "[10] \"FATS; COOKING/VEGETBL SHORTENG1 CUP   \"\n",
            "[11] \"BUTTER; SALTED                1 TBSP  \"\n",
            "[12] \"BUTTER; UNSALTED              1 TBSP  \"\n",
            "[13] \"BUTTER; SALTED                1 PAT   \"\n",
            "[14] \"BUTTER; UNSALTED              1 PAT   \"\n",
            "[15] \"IMITATION CREAMERS; POWDERED  1 TSP   \"\n",
            "[1] 0\n"
          ]
        }
      ]
    },
    {
      "cell_type": "markdown",
      "source": [
        ">High end outlier foods: [1] \"CHOCOLATE; BITTER OT BAKING   1 OZ    \"\n",
        " [2] \"COCONUT; RAW; SHREDDED        1 CUP   \"\n",
        " [3] \"COCONUT; DRIED; SWEETND;SHREDD1 CUP   \"\n",
        " [4] \"COCONUT; RAW; PIECE           1 PIECE \"\n",
        " [5] \"BUTTER; SALTED                1/2 CUP \"\n",
        " [6] \"BUTTER; UNSALTED              1/2 CUP \"\n",
        " [7] \"LARD                          1 CUP   \"\n",
        " [8] \"FATS; COOKING/VEGETBL SHORTENG1 TBSP  \"\n",
        " [9] \"LARD                          1 TBSP  \"\n",
        "[10] \"FATS; COOKING/VEGETBL SHORTENG1 CUP   \"\n",
        "[11] \"BUTTER; SALTED                1 TBSP  \"\n",
        "[12] \"BUTTER; UNSALTED              1 TBSP  \"\n",
        "[13] \"BUTTER; SALTED                1 PAT   \"\n",
        "[14] \"BUTTER; UNSALTED              1 PAT   \"\n",
        "[15] \"IMITATION CREAMERS; POWDERED  1 TSP   \""
      ],
      "metadata": {
        "id": "VYucffMFBLDs"
      }
    },
    {
      "cell_type": "markdown",
      "source": [
        ">Low end outlier foods amount: 0"
      ],
      "metadata": {
        "id": "enoNbHd6BQnQ"
      }
    },
    {
      "cell_type": "code",
      "source": [
        "hist(data$saturated_fat_per_gram, col = \"lightblue\")"
      ],
      "metadata": {
        "colab": {
          "base_uri": "https://localhost:8080/",
          "height": 437
        },
        "id": "0AXUKJbcJFBN",
        "outputId": "e031d84e-ef07-4829-dbde-45e562eeed2a"
      },
      "execution_count": null,
      "outputs": [
        {
          "output_type": "display_data",
          "data": {
            "text/plain": [
              "Plot with title “Histogram of data$saturated_fat_per_gram”"
            ],
            "image/png": "[encoded data removed]"
          },
          "metadata": {
            "image/png": {
              "width": 420,
              "height": 420
            }
          }
        }
      ]
    },
    {
      "cell_type": "markdown",
      "source": [
        "**Missing values**"
      ],
      "metadata": {
        "id": "2ASA4nBrBk7g"
      }
    },
    {
      "cell_type": "code",
      "source": [
        "#check for missing values\n",
        "missing_values = sum(is.na(data))\n",
        "missing_values"
      ],
      "metadata": {
        "colab": {
          "base_uri": "https://localhost:8080/",
          "height": 34
        },
        "id": "qhiUV9p0Bm_U",
        "outputId": "d701545e-8890-4441-eead-93c51acfa1bc"
      },
      "execution_count": null,
      "outputs": [
        {
          "output_type": "display_data",
          "data": {
            "text/html": [
              "0"
            ],
            "text/markdown": "0",
            "text/latex": "0",
            "text/plain": [
              "[1] 0"
            ]
          },
          "metadata": {}
        }
      ]
    },
    {
      "cell_type": "markdown",
      "source": [
        "**Standardize numeric values**"
      ],
      "metadata": {
        "id": "3RmIWantDM87"
      }
    },
    {
      "cell_type": "markdown",
      "source": [
        "Weight in grams:"
      ],
      "metadata": {
        "id": "V2_35W_ADljs"
      }
    },
    {
      "cell_type": "code",
      "source": [
        "data$weight_in_grams = scale(data$weight_in_grams)\n",
        "#low end weight in grams outliers\n",
        "weight_low = which(data$weight_in_grams < -3)\n",
        "print(length(weight_low))\n",
        "#high end\n",
        "weight_high = which(data$weight_in_grams > 3)\n",
        "print(length(weight_high))\n",
        "#high end outlier foods\n",
        "print(data$food.item[weight_high])\n",
        "\n"
      ],
      "metadata": {
        "colab": {
          "base_uri": "https://localhost:8080/"
        },
        "id": "sD6zW52ADS8r",
        "outputId": "3bb93f0b-6d5d-40b9-f6e0-defb6f55a3ee"
      },
      "execution_count": null,
      "outputs": [
        {
          "output_type": "stream",
          "name": "stdout",
          "text": [
            "[1] 0\n",
            "[1] 22\n",
            " [1] \"CUSTARD PIE                   1 PIE   \"\n",
            " [2] \"FRUITCAKE;DARK; FROM HOMERECIP1 CAKE  \"\n",
            " [3] \"CHEESECAKE                    1 CAKE  \"\n",
            " [4] \"PECAN PIE                     1 PIE   \"\n",
            " [5] \"SHEETCAKE W/O FRSTNG;HOMERECIP1 CAKE  \"\n",
            " [6] \"DEVIL'S FOOD CAKE;CHOCFRST;FMX1 CAKE  \"\n",
            " [7] \"CARROT CAKE;CREMCHESE FRST;REC1 CAKE  \"\n",
            " [8] \"YELLOW CAKE W/ CHOC FRST;FRMIX1 CAKE  \"\n",
            " [9] \"PUMPKIN PIE                   1 PIE   \"\n",
            "[10] \"ICE MILK; VANILLA; 4% FAT     1/2 GAL \"\n",
            "[11] \"WHITE CAKE W/ WHT FRSTNG;COMML1 CAKE  \"\n",
            "[12] \"LEMON MERINGUE PIE            1 PIE   \"\n",
            "[13] \"YELLOWCAKE W/ CHOCFRSTNG;COMML1 CAKE  \"\n",
            "[14] \"ICE CREAM; VANLLA; REGULR 11% 1/2 GALN\"\n",
            "[15] \"SHEETCAKE;W/ WHFRSTNG;HOMERCIP1 CAKE  \"\n",
            "[16] \"ICE CREAM; VANLLA; RICH 16% FT1/2 GAL \"\n",
            "[17] \"CHERRY PIE                    1 PIE   \"\n",
            "[18] \"PEACH PIE                     1 PIE   \"\n",
            "[19] \"BLUEBERRY PIE                 1 PIE   \"\n",
            "[20] \"APPLE PIE                     1 PIE   \"\n",
            "[21] \"CREME PIE                     1 PIE   \"\n",
            "[22] \"SHERBET; 2% FAT               1/2 GAL \"\n"
          ]
        }
      ]
    },
    {
      "cell_type": "markdown",
      "source": [
        "Saturated fat:"
      ],
      "metadata": {
        "id": "Hcb8HkWRE9dd"
      }
    },
    {
      "cell_type": "code",
      "source": [
        "data$saturated_fat = scale(data$saturated_fat)\n",
        "#low end weight in grams outliers\n",
        "sf_low = which(data$saturated_fat < -3)\n",
        "print(length(sf_low))\n",
        "#high end\n",
        "sf_high = which(data$saturated_fat > 3)\n",
        "print(length(sf_high))\n",
        "#display high end food items for outliers\n",
        "print(data$food.item[sf_high])"
      ],
      "metadata": {
        "colab": {
          "base_uri": "https://localhost:8080/"
        },
        "id": "LMdZ-Q4RE_nK",
        "outputId": "83055b8a-c17b-4d8c-95eb-d96fa9776578"
      },
      "execution_count": null,
      "outputs": [
        {
          "output_type": "stream",
          "name": "stdout",
          "text": [
            "[1] 0\n",
            "[1] 20\n",
            " [1] \"FRUITCAKE;DARK; FROM HOMERECIP1 CAKE  \"\n",
            " [2] \"CHEESECAKE                    1 CAKE  \"\n",
            " [3] \"POUND CAKE; COMMERCIAL        1 LOAF  \"\n",
            " [4] \"DEVIL'S FOOD CAKE;CHOCFRST;FMX1 CAKE  \"\n",
            " [5] \"CARROT CAKE;CREMCHESE FRST;REC1 CAKE  \"\n",
            " [6] \"YELLOW CAKE W/ CHOC FRST;FRMIX1 CAKE  \"\n",
            " [7] \"PUMPKIN PIE                   1 PIE   \"\n",
            " [8] \"YELLOWCAKE W/ CHOCFRSTNG;COMML1 CAKE  \"\n",
            " [9] \"ICE CREAM; VANLLA; REGULR 11% 1/2 GALN\"\n",
            "[10] \"SHEETCAKE;W/ WHFRSTNG;HOMERCIP1 CAKE  \"\n",
            "[11] \"ICE CREAM; VANLLA; RICH 16% FT1/2 GAL \"\n",
            "[12] \"CREME PIE                     1 PIE   \"\n",
            "[13] \"WHIPPING CREAM; UNWHIPED;HEAVY1 CUP   \"\n",
            "[14] \"WHIPPING CREAM; UNWHIPED;LIGHT1 CUP   \"\n",
            "[15] \"BUTTER; SALTED                1/2 CUP \"\n",
            "[16] \"BUTTER; UNSALTED              1/2 CUP \"\n",
            "[17] \"LARD                          1 CUP   \"\n",
            "[18] \"PEANUT OIL                    1 CUP   \"\n",
            "[19] \"SOYBEAN-COTTONSEED OIL; HYDRGN1 CUP   \"\n",
            "[20] \"FATS; COOKING/VEGETBL SHORTENG1 CUP   \"\n"
          ]
        }
      ]
    },
    {
      "cell_type": "markdown",
      "source": [
        "Cholesterol:"
      ],
      "metadata": {
        "id": "f56ndtoHFk0N"
      }
    },
    {
      "cell_type": "code",
      "source": [
        "data$cholesterol = scale(data$cholesterol)\n",
        "#low end weight in grams outliers\n",
        "c_low = which(data$cholesterol < -3)\n",
        "print(length(c_low))\n",
        "#high end\n",
        "c_high = which(data$cholesterol > 3)\n",
        "print(length(c_high))\n",
        "#display high end food items for outliers\n",
        "print(data$food.item[c_high])"
      ],
      "metadata": {
        "colab": {
          "base_uri": "https://localhost:8080/"
        },
        "id": "EBVnPwZwFn4E",
        "outputId": "8f83bb39-ef9f-49ea-ce62-aaf5e0966742"
      },
      "execution_count": null,
      "outputs": [
        {
          "output_type": "stream",
          "name": "stdout",
          "text": [
            "[1] 0\n",
            "[1] 17\n",
            " [1] \"BEEF LIVER; FRIED             3 OZ    \"\n",
            " [2] \"POUND CAKE; FROM HOME RECIPE  1 LOAF  \"\n",
            " [3] \"CUSTARD PIE                   1 PIE   \"\n",
            " [4] \"FRUITCAKE;DARK; FROM HOMERECIP1 CAKE  \"\n",
            " [5] \"CHEESECAKE                    1 CAKE  \"\n",
            " [6] \"POUND CAKE; COMMERCIAL        1 LOAF  \"\n",
            " [7] \"PECAN PIE                     1 PIE   \"\n",
            " [8] \"SHEETCAKE W/O FRSTNG;HOMERECIP1 CAKE  \"\n",
            " [9] \"DEVIL'S FOOD CAKE;CHOCFRST;FMX1 CAKE  \"\n",
            "[10] \"CARROT CAKE;CREMCHESE FRST;REC1 CAKE  \"\n",
            "[11] \"YELLOW CAKE W/ CHOC FRST;FRMIX1 CAKE  \"\n",
            "[12] \"PUMPKIN PIE                   1 PIE   \"\n",
            "[13] \"LEMON MERINGUE PIE            1 PIE   \"\n",
            "[14] \"YELLOWCAKE W/ CHOCFRSTNG;COMML1 CAKE  \"\n",
            "[15] \"ICE CREAM; VANLLA; REGULR 11% 1/2 GALN\"\n",
            "[16] \"SHEETCAKE;W/ WHFRSTNG;HOMERCIP1 CAKE  \"\n",
            "[17] \"ICE CREAM; VANLLA; RICH 16% FT1/2 GAL \"\n"
          ]
        }
      ]
    },
    {
      "cell_type": "markdown",
      "source": [
        "**Summary**"
      ],
      "metadata": {
        "id": "tBDBH-LZGEwd"
      }
    },
    {
      "cell_type": "markdown",
      "source": [
        "As we see from our analysis: We sorted the data by saturated fat and then displayed the highest saturated fat foods. We next added a column to look at foods and identify their saturated fat per gram and then displayed the foods with the highest saturated fat per gram. We then standardized all the numeric values and identified all outliers."
      ],
      "metadata": {
        "id": "QUbTBSx0HMgu"
      }
    }
  ]
}